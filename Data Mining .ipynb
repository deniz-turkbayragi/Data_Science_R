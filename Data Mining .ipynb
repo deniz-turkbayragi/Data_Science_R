{
 "cells": [
  {
   "cell_type": "code",
   "execution_count": null,
   "metadata": {},
   "outputs": [],
   "source": [
    "#1.Create five different variables which hold an integer, a double, a date, a string, and a logical value,respectively.\n",
    "a <- 1L\n",
    "b <- 1.1\n",
    "c <- as.Date(\"2020-10-14\")\n",
    "d <- \"kedi\"\n",
    "e <- TRUE"
   ]
  },
  {
   "cell_type": "code",
   "execution_count": null,
   "metadata": {},
   "outputs": [],
   "source": [
    "#2.Which functions are used to list and remove the R objects?\n",
    "ls()\n",
    "rm()"
   ]
  },
  {
   "cell_type": "code",
   "execution_count": null,
   "metadata": {},
   "outputs": [],
   "source": [
    "#3.Check the data types of variables created in Q1 (except Date) with the following functions:is.character(),is.double(),is.integer(),is.logical()\n",
    "is.character(d)\n",
    "is.double(b)\n",
    "is.integer(a)\n",
    "is.logical(e)"
   ]
  },
  {
   "cell_type": "code",
   "execution_count": null,
   "metadata": {},
   "outputs": [],
   "source": [
    "#5.Create a numeric vector includes the numbers “25, 30, 86, 97, 111, 3, NA, 900”, respectively, and answer the questions below:\n",
    "#print the third element of the vector\n",
    "vec <- c(25,30,86,97,111,3,NA,900)\n",
    "vec[3]\n",
    "\n",
    "#compute the sum of the first, the forth, and the fifth elements of the vector.                                              sum(vect[c(1,4,5)])\n",
    "sum(vec[1],vec[4],vec[5])\n",
    "\n",
    "#compute the mean of the vector. Is it possible not to consider NA element?\n",
    "mean(vec,na.rm=TRUE)\n",
    "\n",
    "#assign “628” (as a number, not a string) instead of NA element.\n",
    "vec[7] <- 628\n",
    "\n",
    "#find the maximum and the minimum of the vector.\n",
    "max(vec)\n",
    "min(vec)\n",
    "\n",
    "#find the median, variance, and the standard deviation of the vector.\n",
    "median(vec)\n",
    "var(vec)\n",
    "sd(vec)"
   ]
  },
  {
   "cell_type": "code",
   "execution_count": null,
   "metadata": {},
   "outputs": [],
   "source": [
    "#6.Write an R code that prints out the odd numbers from 1 to 20. Assign it to a variable named v1. Then compute the squares of v1. Assign them to v2.\n",
    "v1 <- seq(1,20,2)\n",
    "v2 <- v1^2\n",
    "v2"
   ]
  },
  {
   "cell_type": "code",
   "execution_count": null,
   "metadata": {},
   "outputs": [],
   "source": [
    "#7.Write an R code that prints out the even numbers from 100 to 200. Assign it to a variable named vec1. Then compute the square roots of vec1. Assign them vec2.\n",
    "vec1 <- seq(100,200,2)\n",
    "vec2 <- sqrt(vec1)\n",
    "round(vec2, digits=2)   #Shows the first 2 digits"
   ]
  },
  {
   "cell_type": "code",
   "execution_count": 13,
   "metadata": {},
   "outputs": [
    {
     "data": {
      "text/html": [
       "<style>\n",
       ".list-inline {list-style: none; margin:0; padding: 0}\n",
       ".list-inline>li {display: inline-block}\n",
       ".list-inline>li:not(:last-child)::after {content: \"\\00b7\"; padding: 0 .5ex}\n",
       "</style>\n",
       "<ol class=list-inline><li>75</li><li>65</li><li>55</li><li>45</li><li>35</li><li>25</li></ol>\n"
      ],
      "text/latex": [
       "\\begin{enumerate*}\n",
       "\\item 75\n",
       "\\item 65\n",
       "\\item 55\n",
       "\\item 45\n",
       "\\item 35\n",
       "\\item 25\n",
       "\\end{enumerate*}\n"
      ],
      "text/markdown": [
       "1. 75\n",
       "2. 65\n",
       "3. 55\n",
       "4. 45\n",
       "5. 35\n",
       "6. 25\n",
       "\n",
       "\n"
      ],
      "text/plain": [
       "[1] 75 65 55 45 35 25"
      ]
     },
     "metadata": {},
     "output_type": "display_data"
    }
   ],
   "source": [
    "#8.Write an R code that assign a sequence (from 25 to 0 by 5) to vector_1, and a sequence (from 50 to 25 by 5) to vector_2. Then compute the sum of vector_1 and vector_2.\n",
    "vector_1 <- seq(from = 25, to = 0, by = -5)\n",
    "vector_2 <- seq(from = 50, to = 25, by = -5)\n",
    "(vector_1 + vector_2)"
   ]
  },
  {
   "cell_type": "code",
   "execution_count": 22,
   "metadata": {},
   "outputs": [],
   "source": [
    "#9.Create a factor object named “weather” that has 7 elements and levels named sunny, humid, windy, and rainy.\n",
    "weather <- factor(c(\"sunny\",\"humid\",\"windy\",\"rainy\",\"sunny\",\"sunny\",\"sunny\"))"
   ]
  },
  {
   "cell_type": "code",
   "execution_count": 25,
   "metadata": {},
   "outputs": [
    {
     "data": {
      "text/html": [
       "<strong>Friday:</strong> sunny\n",
       "<details>\n",
       "\t<summary style=display:list-item;cursor:pointer>\n",
       "\t\t<strong>Levels</strong>:\n",
       "\t</summary>\n",
       "\t<style>\n",
       "\t.list-inline {list-style: none; margin:0; padding: 0}\n",
       "\t.list-inline>li {display: inline-block}\n",
       "\t.list-inline>li:not(:last-child)::after {content: \"\\00b7\"; padding: 0 .5ex}\n",
       "\t</style>\n",
       "\t<ol class=list-inline><li>'humid'</li><li>'rainy'</li><li>'sunny'</li><li>'windy'</li></ol>\n",
       "</details>"
      ],
      "text/latex": [
       "\\textbf{Friday:} sunny\n",
       "\\emph{Levels}: \\begin{enumerate*}\n",
       "\\item 'humid'\n",
       "\\item 'rainy'\n",
       "\\item 'sunny'\n",
       "\\item 'windy'\n",
       "\\end{enumerate*}\n"
      ],
      "text/markdown": [
       "**Friday:** sunny\n",
       "**Levels**: 1. 'humid'\n",
       "2. 'rainy'\n",
       "3. 'sunny'\n",
       "4. 'windy'\n",
       "\n",
       "\n"
      ],
      "text/plain": [
       "Friday \n",
       " sunny \n",
       "Levels: humid rainy sunny windy"
      ]
     },
     "metadata": {},
     "output_type": "display_data"
    }
   ],
   "source": [
    "#10.Assign weekdays to the names of the vector “weather” in Q9. Then access the 5th element of the vector by using its name.\n",
    "names(weather) <- c(\"Monday\",\"Tuesday\",\"Wednesday\",\"Thursday\",\"Friday\",\"Saturday\",\"Sunday\")\n",
    "weather[5]          #\"Friday\""
   ]
  },
  {
   "cell_type": "code",
   "execution_count": 30,
   "metadata": {},
   "outputs": [
    {
     "data": {
      "text/html": [
       "\n",
       "<details>\n",
       "\t<summary style=display:list-item;cursor:pointer>\n",
       "\t\t<strong>Levels</strong>:\n",
       "\t</summary>\n",
       "\t\n",
       "</details>"
      ],
      "text/latex": [
       "\n",
       "\\emph{Levels}: "
      ],
      "text/markdown": [
       "\n",
       "**Levels**: "
      ],
      "text/plain": [
       "factor(0)\n",
       "Levels: "
      ]
     },
     "metadata": {},
     "output_type": "display_data"
    }
   ],
   "source": [
    "#11.Create an ordered factor variable by considering the categories of the following vector: c(“agree”,“agree”, “strongly_disagree”, “strongly_disagree”, “disagree”, “disagree”, “disagree”, “agree”,“strongly_agree”).\n",
    "my_vect <- factor(x = c(\"agree\", \"agree\", \"strongly_disagree\", \"strongly_disagree\", \"disagree\", \"disagre\"))\n",
    "my_vect"
   ]
  },
  {
   "cell_type": "code",
   "execution_count": 33,
   "metadata": {},
   "outputs": [
    {
     "data": {
      "text/html": [
       "<style>\n",
       ".list-inline {list-style: none; margin:0; padding: 0}\n",
       ".list-inline>li {display: inline-block}\n",
       ".list-inline>li:not(:last-child)::after {content: \"\\00b7\"; padding: 0 .5ex}\n",
       "</style>\n",
       "<ol class=list-inline><li>1</li><li>1</li><li>1</li><li>1</li><li>1</li><li>3</li><li>3</li><li>3</li><li>3</li><li>3</li><li>5</li><li>5</li><li>5</li><li>5</li><li>5</li></ol>\n"
      ],
      "text/latex": [
       "\\begin{enumerate*}\n",
       "\\item 1\n",
       "\\item 1\n",
       "\\item 1\n",
       "\\item 1\n",
       "\\item 1\n",
       "\\item 3\n",
       "\\item 3\n",
       "\\item 3\n",
       "\\item 3\n",
       "\\item 3\n",
       "\\item 5\n",
       "\\item 5\n",
       "\\item 5\n",
       "\\item 5\n",
       "\\item 5\n",
       "\\end{enumerate*}\n"
      ],
      "text/markdown": [
       "1. 1\n",
       "2. 1\n",
       "3. 1\n",
       "4. 1\n",
       "5. 1\n",
       "6. 3\n",
       "7. 3\n",
       "8. 3\n",
       "9. 3\n",
       "10. 3\n",
       "11. 5\n",
       "12. 5\n",
       "13. 5\n",
       "14. 5\n",
       "15. 5\n",
       "\n",
       "\n"
      ],
      "text/plain": [
       " [1] 1 1 1 1 1 3 3 3 3 3 5 5 5 5 5"
      ]
     },
     "metadata": {},
     "output_type": "display_data"
    }
   ],
   "source": [
    "#12.Create a vector which holds the c(1,3,5) and each element replicates 5 times.\n",
    "t <- rep(c(1,3,5), each=5)\n",
    "t"
   ]
  },
  {
   "cell_type": "code",
   "execution_count": 36,
   "metadata": {},
   "outputs": [
    {
     "data": {
      "text/html": [
       "<style>\n",
       ".list-inline {list-style: none; margin:0; padding: 0}\n",
       ".list-inline>li {display: inline-block}\n",
       ".list-inline>li:not(:last-child)::after {content: \"\\00b7\"; padding: 0 .5ex}\n",
       "</style>\n",
       "<ol class=list-inline><li>6</li><li>7</li><li>8</li><li>9</li><li>10</li><li>11</li><li>12</li><li>13</li><li>14</li><li>15</li><li>16</li><li>17</li><li>18</li><li>19</li><li>20</li></ol>\n"
      ],
      "text/latex": [
       "\\begin{enumerate*}\n",
       "\\item 6\n",
       "\\item 7\n",
       "\\item 8\n",
       "\\item 9\n",
       "\\item 10\n",
       "\\item 11\n",
       "\\item 12\n",
       "\\item 13\n",
       "\\item 14\n",
       "\\item 15\n",
       "\\item 16\n",
       "\\item 17\n",
       "\\item 18\n",
       "\\item 19\n",
       "\\item 20\n",
       "\\end{enumerate*}\n"
      ],
      "text/markdown": [
       "1. 6\n",
       "2. 7\n",
       "3. 8\n",
       "4. 9\n",
       "5. 10\n",
       "6. 11\n",
       "7. 12\n",
       "8. 13\n",
       "9. 14\n",
       "10. 15\n",
       "11. 16\n",
       "12. 17\n",
       "13. 18\n",
       "14. 19\n",
       "15. 20\n",
       "\n",
       "\n"
      ],
      "text/plain": [
       " [1]  6  7  8  9 10 11 12 13 14 15 16 17 18 19 20"
      ]
     },
     "metadata": {},
     "output_type": "display_data"
    },
    {
     "data": {
      "text/html": [
       "<style>\n",
       ".list-inline {list-style: none; margin:0; padding: 0}\n",
       ".list-inline>li {display: inline-block}\n",
       ".list-inline>li:not(:last-child)::after {content: \"\\00b7\"; padding: 0 .5ex}\n",
       "</style>\n",
       "<ol class=list-inline><li>6</li><li>7</li><li>8</li><li>9</li></ol>\n"
      ],
      "text/latex": [
       "\\begin{enumerate*}\n",
       "\\item 6\n",
       "\\item 7\n",
       "\\item 8\n",
       "\\item 9\n",
       "\\end{enumerate*}\n"
      ],
      "text/markdown": [
       "1. 6\n",
       "2. 7\n",
       "3. 8\n",
       "4. 9\n",
       "\n",
       "\n"
      ],
      "text/plain": [
       "[1] 6 7 8 9"
      ]
     },
     "metadata": {},
     "output_type": "display_data"
    },
    {
     "data": {
      "text/html": [
       "<style>\n",
       ".list-inline {list-style: none; margin:0; padding: 0}\n",
       ".list-inline>li {display: inline-block}\n",
       ".list-inline>li:not(:last-child)::after {content: \"\\00b7\"; padding: 0 .5ex}\n",
       "</style>\n",
       "<ol class=list-inline><li>1</li><li>2</li><li>3</li><li>4</li><li>6</li><li>7</li><li>9</li><li>10</li><li>11</li><li>12</li><li>13</li><li>14</li><li>15</li><li>16</li><li>17</li><li>18</li><li>19</li><li>20</li></ol>\n"
      ],
      "text/latex": [
       "\\begin{enumerate*}\n",
       "\\item 1\n",
       "\\item 2\n",
       "\\item 3\n",
       "\\item 4\n",
       "\\item 6\n",
       "\\item 7\n",
       "\\item 9\n",
       "\\item 10\n",
       "\\item 11\n",
       "\\item 12\n",
       "\\item 13\n",
       "\\item 14\n",
       "\\item 15\n",
       "\\item 16\n",
       "\\item 17\n",
       "\\item 18\n",
       "\\item 19\n",
       "\\item 20\n",
       "\\end{enumerate*}\n"
      ],
      "text/markdown": [
       "1. 1\n",
       "2. 2\n",
       "3. 3\n",
       "4. 4\n",
       "5. 6\n",
       "6. 7\n",
       "7. 9\n",
       "8. 10\n",
       "9. 11\n",
       "10. 12\n",
       "11. 13\n",
       "12. 14\n",
       "13. 15\n",
       "14. 16\n",
       "15. 17\n",
       "16. 18\n",
       "17. 19\n",
       "18. 20\n",
       "\n",
       "\n"
      ],
      "text/plain": [
       " [1]  1  2  3  4  6  7  9 10 11 12 13 14 15 16 17 18 19 20"
      ]
     },
     "metadata": {},
     "output_type": "display_data"
    },
    {
     "data": {
      "text/html": [
       "<style>\n",
       ".list-inline {list-style: none; margin:0; padding: 0}\n",
       ".list-inline>li {display: inline-block}\n",
       ".list-inline>li:not(:last-child)::after {content: \"\\00b7\"; padding: 0 .5ex}\n",
       "</style>\n",
       "<ol class=list-inline><li>10</li><li>11</li><li>12</li><li>13</li><li>14</li><li>15</li></ol>\n"
      ],
      "text/latex": [
       "\\begin{enumerate*}\n",
       "\\item 10\n",
       "\\item 11\n",
       "\\item 12\n",
       "\\item 13\n",
       "\\item 14\n",
       "\\item 15\n",
       "\\end{enumerate*}\n"
      ],
      "text/markdown": [
       "1. 10\n",
       "2. 11\n",
       "3. 12\n",
       "4. 13\n",
       "5. 14\n",
       "6. 15\n",
       "\n",
       "\n"
      ],
      "text/plain": [
       "[1] 10 11 12 13 14 15"
      ]
     },
     "metadata": {},
     "output_type": "display_data"
    }
   ],
   "source": [
    "#13.vect is a vector which holds the 20 integer numbers from 1 to 20. Compute the followings by considering vect:\n",
    "#elements greater than 5.\n",
    "vect <- seq(1,20)\n",
    "vect[vect>5] \n",
    "\n",
    "#elements between 5 and 10.\n",
    "vect[vect>5 & vect<10]            #vect[6:9]\n",
    "\n",
    "#elements except 5th to 8th.\n",
    "vect[-c(5,8)]\n",
    "\n",
    "#elements from 10th to 15th.\n",
    "vect[vect>=10 &vect<=15]           #vect[10:15]\n",
    "\n",
    "#1st, 3rd, 5th, and 15th elements.\n",
    "vect[c(1,3,5,15)]"
   ]
  },
  {
   "cell_type": "code",
   "execution_count": 38,
   "metadata": {},
   "outputs": [
    {
     "data": {
      "text/html": [
       "20"
      ],
      "text/latex": [
       "20"
      ],
      "text/markdown": [
       "20"
      ],
      "text/plain": [
       "[1] 20"
      ]
     },
     "metadata": {},
     "output_type": "display_data"
    },
    {
     "data": {
      "text/html": [
       "28.26"
      ],
      "text/latex": [
       "28.26"
      ],
      "text/markdown": [
       "28.26"
      ],
      "text/plain": [
       "[1] 28.26"
      ]
     },
     "metadata": {},
     "output_type": "display_data"
    },
    {
     "data": {
      "text/html": [
       "38.051"
      ],
      "text/latex": [
       "38.051"
      ],
      "text/markdown": [
       "38.051"
      ],
      "text/plain": [
       "[1] 38.051"
      ]
     },
     "metadata": {},
     "output_type": "display_data"
    }
   ],
   "source": [
    "#14.Write the R codes that prints the following according to vect <- c(20.212222, 28.256, 38.051):\n",
    "#20\n",
    "vect <- c(20.212222, 28.256, 38.051)\n",
    "round(vect[1], digits=0) \n",
    "\n",
    "#28.26\n",
    "round(vect[2], digits=2) \n",
    "\n",
    "#38.051\n",
    "round(vect[3], digits=3) "
   ]
  },
  {
   "cell_type": "code",
   "execution_count": 39,
   "metadata": {},
   "outputs": [],
   "source": [
    "#15.Write the R code that enables to return help of max() function.\n",
    "?max()"
   ]
  },
  {
   "cell_type": "code",
   "execution_count": null,
   "metadata": {},
   "outputs": [],
   "source": []
  }
 ],
 "metadata": {
  "kernelspec": {
   "display_name": "R",
   "language": "R",
   "name": "ir"
  },
  "language_info": {
   "codemirror_mode": "r",
   "file_extension": ".r",
   "mimetype": "text/x-r-source",
   "name": "R",
   "pygments_lexer": "r",
   "version": "4.0.3"
  }
 },
 "nbformat": 4,
 "nbformat_minor": 4
}
