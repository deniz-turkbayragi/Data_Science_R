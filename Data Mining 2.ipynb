{
 "cells": [
  {
   "cell_type": "code",
   "execution_count": 1,
   "metadata": {},
   "outputs": [],
   "source": [
    "#1.reading form a URL\n",
    "url <- \"https://archive.ics.uci.edu/ml/machine-learning-databases/iris/iris.data\"\n",
    "irisData <- read.table(file=url, header=FALSE, sep=\",\")\n",
    "colnames(irisData) <- c(\"sepal_length\",\n",
    "                        \"sepal_width\",\n",
    "                        \"petal_length\",\n",
    "                        \"petal_width\",\n",
    "                        \"target_class\")"
   ]
  },
  {
   "cell_type": "code",
   "execution_count": 2,
   "metadata": {},
   "outputs": [],
   "source": [
    "#1.1transform the target class to a factor.\n",
    "irisData$target_class <- as.factor(irisData$target_class)"
   ]
  },
  {
   "cell_type": "code",
   "execution_count": 3,
   "metadata": {},
   "outputs": [
    {
     "data": {
      "text/plain": [
       "\n",
       "    Iris-setosa Iris-versicolor  Iris-virginica \n",
       "             50              50              50 "
      ]
     },
     "metadata": {},
     "output_type": "display_data"
    }
   ],
   "source": [
    "#1.2 find the frequencies of the target class (Hint: table()).\n",
    "table(irisData$target_class )"
   ]
  },
  {
   "cell_type": "code",
   "execution_count": 5,
   "metadata": {},
   "outputs": [
    {
     "data": {
      "text/html": [
       "<table class=\"dataframe\">\n",
       "<caption>A data.frame: 1 × 2</caption>\n",
       "<thead>\n",
       "\t<tr><th></th><th scope=col>sepal_length</th><th scope=col>sepal_width</th></tr>\n",
       "\t<tr><th></th><th scope=col>&lt;dbl&gt;</th><th scope=col>&lt;dbl&gt;</th></tr>\n",
       "</thead>\n",
       "<tbody>\n",
       "\t<tr><th scope=row>2</th><td>4.9</td><td>3</td></tr>\n",
       "</tbody>\n",
       "</table>\n"
      ],
      "text/latex": [
       "A data.frame: 1 × 2\n",
       "\\begin{tabular}{r|ll}\n",
       "  & sepal\\_length & sepal\\_width\\\\\n",
       "  & <dbl> & <dbl>\\\\\n",
       "\\hline\n",
       "\t2 & 4.9 & 3\\\\\n",
       "\\end{tabular}\n"
      ],
      "text/markdown": [
       "\n",
       "A data.frame: 1 × 2\n",
       "\n",
       "| <!--/--> | sepal_length &lt;dbl&gt; | sepal_width &lt;dbl&gt; |\n",
       "|---|---|---|\n",
       "| 2 | 4.9 | 3 |\n",
       "\n"
      ],
      "text/plain": [
       "  sepal_length sepal_width\n",
       "2 4.9          3          "
      ]
     },
     "metadata": {},
     "output_type": "display_data"
    }
   ],
   "source": [
    "#1.3 print “sepal_length” and “sepal_width” of 2nd observation.\n",
    "irisData[2, c(\"sepal_length\",\"sepal_width\")]"
   ]
  },
  {
   "cell_type": "code",
   "execution_count": 6,
   "metadata": {},
   "outputs": [
    {
     "data": {
      "text/html": [
       "<table class=\"dataframe\">\n",
       "<caption>A data.frame: 5 × 2</caption>\n",
       "<thead>\n",
       "\t<tr><th></th><th scope=col>sepal_width</th><th scope=col>petal_length</th></tr>\n",
       "\t<tr><th></th><th scope=col>&lt;dbl&gt;</th><th scope=col>&lt;dbl&gt;</th></tr>\n",
       "</thead>\n",
       "<tbody>\n",
       "\t<tr><th scope=row>146</th><td>3.0</td><td>5.2</td></tr>\n",
       "\t<tr><th scope=row>147</th><td>2.5</td><td>5.0</td></tr>\n",
       "\t<tr><th scope=row>148</th><td>3.0</td><td>5.2</td></tr>\n",
       "\t<tr><th scope=row>149</th><td>3.4</td><td>5.4</td></tr>\n",
       "\t<tr><th scope=row>150</th><td>3.0</td><td>5.1</td></tr>\n",
       "</tbody>\n",
       "</table>\n"
      ],
      "text/latex": [
       "A data.frame: 5 × 2\n",
       "\\begin{tabular}{r|ll}\n",
       "  & sepal\\_width & petal\\_length\\\\\n",
       "  & <dbl> & <dbl>\\\\\n",
       "\\hline\n",
       "\t146 & 3.0 & 5.2\\\\\n",
       "\t147 & 2.5 & 5.0\\\\\n",
       "\t148 & 3.0 & 5.2\\\\\n",
       "\t149 & 3.4 & 5.4\\\\\n",
       "\t150 & 3.0 & 5.1\\\\\n",
       "\\end{tabular}\n"
      ],
      "text/markdown": [
       "\n",
       "A data.frame: 5 × 2\n",
       "\n",
       "| <!--/--> | sepal_width &lt;dbl&gt; | petal_length &lt;dbl&gt; |\n",
       "|---|---|---|\n",
       "| 146 | 3.0 | 5.2 |\n",
       "| 147 | 2.5 | 5.0 |\n",
       "| 148 | 3.0 | 5.2 |\n",
       "| 149 | 3.4 | 5.4 |\n",
       "| 150 | 3.0 | 5.1 |\n",
       "\n"
      ],
      "text/plain": [
       "    sepal_width petal_length\n",
       "146 3.0         5.2         \n",
       "147 2.5         5.0         \n",
       "148 3.0         5.2         \n",
       "149 3.4         5.4         \n",
       "150 3.0         5.1         "
      ]
     },
     "metadata": {},
     "output_type": "display_data"
    }
   ],
   "source": [
    "#1.4 print “sepal_width” and “petal_length” of the last 5 observations.\n",
    "irisData[(nrow(irisData)-4):nrow(irisData),c(\"sepal_width\", \"petal_length\")]"
   ]
  },
  {
   "cell_type": "code",
   "execution_count": 7,
   "metadata": {},
   "outputs": [
    {
     "data": {
      "text/html": [
       "<style>\n",
       ".list-inline {list-style: none; margin:0; padding: 0}\n",
       ".list-inline>li {display: inline-block}\n",
       ".list-inline>li:not(:last-child)::after {content: \"\\00b7\"; padding: 0 .5ex}\n",
       "</style>\n",
       "<ol class=list-inline><li>Iris-setosa</li><li>Iris-versicolor</li><li>Iris-versicolor</li><li>Iris-versicolor</li><li>Iris-versicolor</li><li>Iris-versicolor</li><li>Iris-versicolor</li><li>Iris-versicolor</li><li>Iris-versicolor</li><li>Iris-versicolor</li><li>Iris-versicolor</li></ol>\n",
       "\n",
       "<details>\n",
       "\t<summary style=display:list-item;cursor:pointer>\n",
       "\t\t<strong>Levels</strong>:\n",
       "\t</summary>\n",
       "\t<style>\n",
       "\t.list-inline {list-style: none; margin:0; padding: 0}\n",
       "\t.list-inline>li {display: inline-block}\n",
       "\t.list-inline>li:not(:last-child)::after {content: \"\\00b7\"; padding: 0 .5ex}\n",
       "\t</style>\n",
       "\t<ol class=list-inline><li>'Iris-setosa'</li><li>'Iris-versicolor'</li><li>'Iris-virginica'</li></ol>\n",
       "</details>"
      ],
      "text/latex": [
       "\\begin{enumerate*}\n",
       "\\item Iris-setosa\n",
       "\\item Iris-versicolor\n",
       "\\item Iris-versicolor\n",
       "\\item Iris-versicolor\n",
       "\\item Iris-versicolor\n",
       "\\item Iris-versicolor\n",
       "\\item Iris-versicolor\n",
       "\\item Iris-versicolor\n",
       "\\item Iris-versicolor\n",
       "\\item Iris-versicolor\n",
       "\\item Iris-versicolor\n",
       "\\end{enumerate*}\n",
       "\n",
       "\\emph{Levels}: \\begin{enumerate*}\n",
       "\\item 'Iris-setosa'\n",
       "\\item 'Iris-versicolor'\n",
       "\\item 'Iris-virginica'\n",
       "\\end{enumerate*}\n"
      ],
      "text/markdown": [
       "1. Iris-setosa\n",
       "2. Iris-versicolor\n",
       "3. Iris-versicolor\n",
       "4. Iris-versicolor\n",
       "5. Iris-versicolor\n",
       "6. Iris-versicolor\n",
       "7. Iris-versicolor\n",
       "8. Iris-versicolor\n",
       "9. Iris-versicolor\n",
       "10. Iris-versicolor\n",
       "11. Iris-versicolor\n",
       "\n",
       "\n",
       "\n",
       "**Levels**: 1. 'Iris-setosa'\n",
       "2. 'Iris-versicolor'\n",
       "3. 'Iris-virginica'\n",
       "\n",
       "\n"
      ],
      "text/plain": [
       " [1] Iris-setosa     Iris-versicolor Iris-versicolor Iris-versicolor\n",
       " [5] Iris-versicolor Iris-versicolor Iris-versicolor Iris-versicolor\n",
       " [9] Iris-versicolor Iris-versicolor Iris-versicolor\n",
       "Levels: Iris-setosa Iris-versicolor Iris-virginica"
      ]
     },
     "metadata": {},
     "output_type": "display_data"
    }
   ],
   "source": [
    "#1.5 print the target class of the observations that are between 50th and 60th. Please note that 50th and 60th should be included [50th,60th].\n",
    "irisData[50:60,c(\"target_class\")]         #irisData$target_class[50:60] "
   ]
  },
  {
   "cell_type": "code",
   "execution_count": 10,
   "metadata": {},
   "outputs": [
    {
     "data": {
      "text/html": [
       "<style>\n",
       ".list-inline {list-style: none; margin:0; padding: 0}\n",
       ".list-inline>li {display: inline-block}\n",
       ".list-inline>li:not(:last-child)::after {content: \"\\00b7\"; padding: 0 .5ex}\n",
       "</style>\n",
       "<ol class=list-inline><li>3.5</li><li>3</li><li>3.2</li><li>3.1</li><li>3.6</li><li>3.9</li><li>3.4</li><li>3.4</li><li>2.9</li><li>3.1</li><li>3.7</li><li>3.4</li><li>3</li><li>3</li><li>4</li><li>4.4</li><li>3.9</li><li>3.5</li><li>3.8</li><li>3.8</li><li>3.4</li><li>3.7</li><li>3.6</li><li>3.3</li><li>3.4</li><li>3</li><li>3.4</li><li>3.5</li><li>3.4</li><li>3.2</li><li>3.1</li><li>3.4</li><li>4.1</li><li>4.2</li><li>3.1</li><li>3.2</li><li>3.5</li><li>3.1</li><li>3</li><li>3.4</li><li>3.5</li><li>2.3</li><li>3.2</li><li>3.8</li><li>3</li><li>3.8</li><li>3.2</li><li>3.7</li><li>3.3</li></ol>\n"
      ],
      "text/latex": [
       "\\begin{enumerate*}\n",
       "\\item 3.5\n",
       "\\item 3\n",
       "\\item 3.2\n",
       "\\item 3.1\n",
       "\\item 3.6\n",
       "\\item 3.9\n",
       "\\item 3.4\n",
       "\\item 3.4\n",
       "\\item 2.9\n",
       "\\item 3.1\n",
       "\\item 3.7\n",
       "\\item 3.4\n",
       "\\item 3\n",
       "\\item 3\n",
       "\\item 4\n",
       "\\item 4.4\n",
       "\\item 3.9\n",
       "\\item 3.5\n",
       "\\item 3.8\n",
       "\\item 3.8\n",
       "\\item 3.4\n",
       "\\item 3.7\n",
       "\\item 3.6\n",
       "\\item 3.3\n",
       "\\item 3.4\n",
       "\\item 3\n",
       "\\item 3.4\n",
       "\\item 3.5\n",
       "\\item 3.4\n",
       "\\item 3.2\n",
       "\\item 3.1\n",
       "\\item 3.4\n",
       "\\item 4.1\n",
       "\\item 4.2\n",
       "\\item 3.1\n",
       "\\item 3.2\n",
       "\\item 3.5\n",
       "\\item 3.1\n",
       "\\item 3\n",
       "\\item 3.4\n",
       "\\item 3.5\n",
       "\\item 2.3\n",
       "\\item 3.2\n",
       "\\item 3.8\n",
       "\\item 3\n",
       "\\item 3.8\n",
       "\\item 3.2\n",
       "\\item 3.7\n",
       "\\item 3.3\n",
       "\\end{enumerate*}\n"
      ],
      "text/markdown": [
       "1. 3.5\n",
       "2. 3\n",
       "3. 3.2\n",
       "4. 3.1\n",
       "5. 3.6\n",
       "6. 3.9\n",
       "7. 3.4\n",
       "8. 3.4\n",
       "9. 2.9\n",
       "10. 3.1\n",
       "11. 3.7\n",
       "12. 3.4\n",
       "13. 3\n",
       "14. 3\n",
       "15. 4\n",
       "16. 4.4\n",
       "17. 3.9\n",
       "18. 3.5\n",
       "19. 3.8\n",
       "20. 3.8\n",
       "21. 3.4\n",
       "22. 3.7\n",
       "23. 3.6\n",
       "24. 3.3\n",
       "25. 3.4\n",
       "26. 3\n",
       "27. 3.4\n",
       "28. 3.5\n",
       "29. 3.4\n",
       "30. 3.2\n",
       "31. 3.1\n",
       "32. 3.4\n",
       "33. 4.1\n",
       "34. 4.2\n",
       "35. 3.1\n",
       "36. 3.2\n",
       "37. 3.5\n",
       "38. 3.1\n",
       "39. 3\n",
       "40. 3.4\n",
       "41. 3.5\n",
       "42. 2.3\n",
       "43. 3.2\n",
       "44. 3.8\n",
       "45. 3\n",
       "46. 3.8\n",
       "47. 3.2\n",
       "48. 3.7\n",
       "49. 3.3\n",
       "\n",
       "\n"
      ],
      "text/plain": [
       " [1] 3.5 3.0 3.2 3.1 3.6 3.9 3.4 3.4 2.9 3.1 3.7 3.4 3.0 3.0 4.0 4.4 3.9 3.5 3.8\n",
       "[20] 3.8 3.4 3.7 3.6 3.3 3.4 3.0 3.4 3.5 3.4 3.2 3.1 3.4 4.1 4.2 3.1 3.2 3.5 3.1\n",
       "[39] 3.0 3.4 3.5 2.3 3.2 3.8 3.0 3.8 3.2 3.7 3.3"
      ]
     },
     "metadata": {},
     "output_type": "display_data"
    }
   ],
   "source": [
    "#1.6 print “sepal_width” of the observations which has petal_width is between 0.1 and 0.5 [0.1, 0.5].\n",
    "irisData[(irisData$petal_width >= 0.1) & (irisData$petal_width <= 0.5), \"sepal_width\"]"
   ]
  },
  {
   "cell_type": "code",
   "execution_count": 12,
   "metadata": {},
   "outputs": [
    {
     "data": {
      "text/html": [
       "<style>\n",
       ".list-inline {list-style: none; margin:0; padding: 0}\n",
       ".list-inline>li {display: inline-block}\n",
       ".list-inline>li:not(:last-child)::after {content: \"\\00b7\"; padding: 0 .5ex}\n",
       "</style>\n",
       "<ol class=list-inline><li>1.1</li><li>1.2</li><li>1</li><li>1.2</li><li>5.1</li><li>6</li><li>5.1</li><li>5.9</li><li>5.6</li><li>5.8</li><li>6.6</li><li>6.3</li><li>5.8</li><li>6.1</li><li>5.1</li><li>5.3</li><li>5.5</li><li>5.1</li><li>5.3</li><li>5.5</li><li>6.7</li><li>6.9</li><li>5.7</li><li>6.7</li><li>5.7</li><li>6</li><li>5.6</li><li>5.8</li><li>6.1</li><li>6.4</li><li>5.6</li><li>5.1</li><li>5.6</li><li>6.1</li><li>5.6</li><li>5.5</li><li>5.4</li><li>5.6</li><li>5.1</li><li>5.1</li><li>5.9</li><li>5.7</li><li>5.2</li><li>5.2</li><li>5.4</li><li>5.1</li></ol>\n"
      ],
      "text/latex": [
       "\\begin{enumerate*}\n",
       "\\item 1.1\n",
       "\\item 1.2\n",
       "\\item 1\n",
       "\\item 1.2\n",
       "\\item 5.1\n",
       "\\item 6\n",
       "\\item 5.1\n",
       "\\item 5.9\n",
       "\\item 5.6\n",
       "\\item 5.8\n",
       "\\item 6.6\n",
       "\\item 6.3\n",
       "\\item 5.8\n",
       "\\item 6.1\n",
       "\\item 5.1\n",
       "\\item 5.3\n",
       "\\item 5.5\n",
       "\\item 5.1\n",
       "\\item 5.3\n",
       "\\item 5.5\n",
       "\\item 6.7\n",
       "\\item 6.9\n",
       "\\item 5.7\n",
       "\\item 6.7\n",
       "\\item 5.7\n",
       "\\item 6\n",
       "\\item 5.6\n",
       "\\item 5.8\n",
       "\\item 6.1\n",
       "\\item 6.4\n",
       "\\item 5.6\n",
       "\\item 5.1\n",
       "\\item 5.6\n",
       "\\item 6.1\n",
       "\\item 5.6\n",
       "\\item 5.5\n",
       "\\item 5.4\n",
       "\\item 5.6\n",
       "\\item 5.1\n",
       "\\item 5.1\n",
       "\\item 5.9\n",
       "\\item 5.7\n",
       "\\item 5.2\n",
       "\\item 5.2\n",
       "\\item 5.4\n",
       "\\item 5.1\n",
       "\\end{enumerate*}\n"
      ],
      "text/markdown": [
       "1. 1.1\n",
       "2. 1.2\n",
       "3. 1\n",
       "4. 1.2\n",
       "5. 5.1\n",
       "6. 6\n",
       "7. 5.1\n",
       "8. 5.9\n",
       "9. 5.6\n",
       "10. 5.8\n",
       "11. 6.6\n",
       "12. 6.3\n",
       "13. 5.8\n",
       "14. 6.1\n",
       "15. 5.1\n",
       "16. 5.3\n",
       "17. 5.5\n",
       "18. 5.1\n",
       "19. 5.3\n",
       "20. 5.5\n",
       "21. 6.7\n",
       "22. 6.9\n",
       "23. 5.7\n",
       "24. 6.7\n",
       "25. 5.7\n",
       "26. 6\n",
       "27. 5.6\n",
       "28. 5.8\n",
       "29. 6.1\n",
       "30. 6.4\n",
       "31. 5.6\n",
       "32. 5.1\n",
       "33. 5.6\n",
       "34. 6.1\n",
       "35. 5.6\n",
       "36. 5.5\n",
       "37. 5.4\n",
       "38. 5.6\n",
       "39. 5.1\n",
       "40. 5.1\n",
       "41. 5.9\n",
       "42. 5.7\n",
       "43. 5.2\n",
       "44. 5.2\n",
       "45. 5.4\n",
       "46. 5.1\n",
       "\n",
       "\n"
      ],
      "text/plain": [
       " [1] 1.1 1.2 1.0 1.2 5.1 6.0 5.1 5.9 5.6 5.8 6.6 6.3 5.8 6.1 5.1 5.3 5.5 5.1 5.3\n",
       "[20] 5.5 6.7 6.9 5.7 6.7 5.7 6.0 5.6 5.8 6.1 6.4 5.6 5.1 5.6 6.1 5.6 5.5 5.4 5.6\n",
       "[39] 5.1 5.1 5.9 5.7 5.2 5.2 5.4 5.1"
      ]
     },
     "metadata": {},
     "output_type": "display_data"
    }
   ],
   "source": [
    "# 1.7 print “petal_length” of the observations that are less than 1.3 or higher than 5.\n",
    "irisData[(irisData$petal_length<1.3) | (irisData$petal_length>5), \"petal_length\"]"
   ]
  },
  {
   "cell_type": "code",
   "execution_count": 14,
   "metadata": {},
   "outputs": [
    {
     "data": {
      "text/html": [
       "<ol>\n",
       "\t<li><style>\n",
       ".list-inline {list-style: none; margin:0; padding: 0}\n",
       ".list-inline>li {display: inline-block}\n",
       ".list-inline>li:not(:last-child)::after {content: \"\\00b7\"; padding: 0 .5ex}\n",
       "</style>\n",
       "<ol class=list-inline><li>5.1</li><li>4.9</li><li>4.7</li><li>4.6</li><li>5</li><li>5.4</li><li>4.6</li><li>5</li><li>4.4</li><li>4.9</li></ol>\n",
       "</li>\n",
       "\t<li><style>\n",
       ".list-inline {list-style: none; margin:0; padding: 0}\n",
       ".list-inline>li {display: inline-block}\n",
       ".list-inline>li:not(:last-child)::after {content: \"\\00b7\"; padding: 0 .5ex}\n",
       "</style>\n",
       "<ol class=list-inline><li>Iris-virginica</li><li>Iris-virginica</li><li>Iris-virginica</li><li>Iris-virginica</li><li>Iris-virginica</li></ol>\n",
       "\n",
       "<details>\n",
       "\t<summary style=display:list-item;cursor:pointer>\n",
       "\t\t<strong>Levels</strong>:\n",
       "\t</summary>\n",
       "\t<style>\n",
       "\t.list-inline {list-style: none; margin:0; padding: 0}\n",
       "\t.list-inline>li {display: inline-block}\n",
       "\t.list-inline>li:not(:last-child)::after {content: \"\\00b7\"; padding: 0 .5ex}\n",
       "\t</style>\n",
       "\t<ol class=list-inline><li>'Iris-setosa'</li><li>'Iris-versicolor'</li><li>'Iris-virginica'</li></ol>\n",
       "</details></li>\n",
       "</ol>\n"
      ],
      "text/latex": [
       "\\begin{enumerate}\n",
       "\\item \\begin{enumerate*}\n",
       "\\item 5.1\n",
       "\\item 4.9\n",
       "\\item 4.7\n",
       "\\item 4.6\n",
       "\\item 5\n",
       "\\item 5.4\n",
       "\\item 4.6\n",
       "\\item 5\n",
       "\\item 4.4\n",
       "\\item 4.9\n",
       "\\end{enumerate*}\n",
       "\n",
       "\\item \\begin{enumerate*}\n",
       "\\item Iris-virginica\n",
       "\\item Iris-virginica\n",
       "\\item Iris-virginica\n",
       "\\item Iris-virginica\n",
       "\\item Iris-virginica\n",
       "\\end{enumerate*}\n",
       "\n",
       "\\emph{Levels}: \\begin{enumerate*}\n",
       "\\item 'Iris-setosa'\n",
       "\\item 'Iris-versicolor'\n",
       "\\item 'Iris-virginica'\n",
       "\\end{enumerate*}\n",
       "\n",
       "\\end{enumerate}\n"
      ],
      "text/markdown": [
       "1. 1. 5.1\n",
       "2. 4.9\n",
       "3. 4.7\n",
       "4. 4.6\n",
       "5. 5\n",
       "6. 5.4\n",
       "7. 4.6\n",
       "8. 5\n",
       "9. 4.4\n",
       "10. 4.9\n",
       "\n",
       "\n",
       "\n",
       "2. 1. Iris-virginica\n",
       "2. Iris-virginica\n",
       "3. Iris-virginica\n",
       "4. Iris-virginica\n",
       "5. Iris-virginica\n",
       "\n",
       "\n",
       "\n",
       "**Levels**: 1. 'Iris-setosa'\n",
       "2. 'Iris-versicolor'\n",
       "3. 'Iris-virginica'\n",
       "\n",
       "\n",
       "\n",
       "\n",
       "\n"
      ],
      "text/plain": [
       "[[1]]\n",
       " [1] 5.1 4.9 4.7 4.6 5.0 5.4 4.6 5.0 4.4 4.9\n",
       "\n",
       "[[2]]\n",
       "[1] Iris-virginica Iris-virginica Iris-virginica Iris-virginica Iris-virginica\n",
       "Levels: Iris-setosa Iris-versicolor Iris-virginica\n"
      ]
     },
     "metadata": {},
     "output_type": "display_data"
    },
    {
     "data": {
      "text/html": [
       "<dl>\n",
       "\t<dt>$sepal_length</dt>\n",
       "\t\t<dd><style>\n",
       ".list-inline {list-style: none; margin:0; padding: 0}\n",
       ".list-inline>li {display: inline-block}\n",
       ".list-inline>li:not(:last-child)::after {content: \"\\00b7\"; padding: 0 .5ex}\n",
       "</style>\n",
       "<ol class=list-inline><li>5.1</li><li>4.9</li><li>4.7</li><li>4.6</li><li>5</li><li>5.4</li><li>4.6</li><li>5</li><li>4.4</li><li>4.9</li></ol>\n",
       "</dd>\n",
       "\t<dt>$target_class</dt>\n",
       "\t\t<dd><style>\n",
       ".list-inline {list-style: none; margin:0; padding: 0}\n",
       ".list-inline>li {display: inline-block}\n",
       ".list-inline>li:not(:last-child)::after {content: \"\\00b7\"; padding: 0 .5ex}\n",
       "</style>\n",
       "<ol class=list-inline><li>Iris-virginica</li><li>Iris-virginica</li><li>Iris-virginica</li><li>Iris-virginica</li><li>Iris-virginica</li></ol>\n",
       "\n",
       "<details>\n",
       "\t<summary style=display:list-item;cursor:pointer>\n",
       "\t\t<strong>Levels</strong>:\n",
       "\t</summary>\n",
       "\t<style>\n",
       "\t.list-inline {list-style: none; margin:0; padding: 0}\n",
       "\t.list-inline>li {display: inline-block}\n",
       "\t.list-inline>li:not(:last-child)::after {content: \"\\00b7\"; padding: 0 .5ex}\n",
       "\t</style>\n",
       "\t<ol class=list-inline><li>'Iris-setosa'</li><li>'Iris-versicolor'</li><li>'Iris-virginica'</li></ol>\n",
       "</details></dd>\n",
       "</dl>\n"
      ],
      "text/latex": [
       "\\begin{description}\n",
       "\\item[\\$sepal\\_length] \\begin{enumerate*}\n",
       "\\item 5.1\n",
       "\\item 4.9\n",
       "\\item 4.7\n",
       "\\item 4.6\n",
       "\\item 5\n",
       "\\item 5.4\n",
       "\\item 4.6\n",
       "\\item 5\n",
       "\\item 4.4\n",
       "\\item 4.9\n",
       "\\end{enumerate*}\n",
       "\n",
       "\\item[\\$target\\_class] \\begin{enumerate*}\n",
       "\\item Iris-virginica\n",
       "\\item Iris-virginica\n",
       "\\item Iris-virginica\n",
       "\\item Iris-virginica\n",
       "\\item Iris-virginica\n",
       "\\end{enumerate*}\n",
       "\n",
       "\\emph{Levels}: \\begin{enumerate*}\n",
       "\\item 'Iris-setosa'\n",
       "\\item 'Iris-versicolor'\n",
       "\\item 'Iris-virginica'\n",
       "\\end{enumerate*}\n",
       "\n",
       "\\end{description}\n"
      ],
      "text/markdown": [
       "$sepal_length\n",
       ":   1. 5.1\n",
       "2. 4.9\n",
       "3. 4.7\n",
       "4. 4.6\n",
       "5. 5\n",
       "6. 5.4\n",
       "7. 4.6\n",
       "8. 5\n",
       "9. 4.4\n",
       "10. 4.9\n",
       "\n",
       "\n",
       "\n",
       "$target_class\n",
       ":   1. Iris-virginica\n",
       "2. Iris-virginica\n",
       "3. Iris-virginica\n",
       "4. Iris-virginica\n",
       "5. Iris-virginica\n",
       "\n",
       "\n",
       "\n",
       "**Levels**: 1. 'Iris-setosa'\n",
       "2. 'Iris-versicolor'\n",
       "3. 'Iris-virginica'\n",
       "\n",
       "\n",
       "\n",
       "\n",
       "\n"
      ],
      "text/plain": [
       "$sepal_length\n",
       " [1] 5.1 4.9 4.7 4.6 5.0 5.4 4.6 5.0 4.4 4.9\n",
       "\n",
       "$target_class\n",
       "[1] Iris-virginica Iris-virginica Iris-virginica Iris-virginica Iris-virginica\n",
       "Levels: Iris-setosa Iris-versicolor Iris-virginica\n"
      ]
     },
     "metadata": {},
     "output_type": "display_data"
    }
   ],
   "source": [
    "#2 Define a list by using the sepal_length of the first 10 observations and target_class of the last five observations of the Iris dataset. Set column names of the list.\n",
    "my_list <- list(irisData$sepal_length[1:10], irisData$target_class[(nrow(irisData)-4):nrow(irisData)])\n",
    "my_list\n",
    "names(my_list) <- c(\"sepal_length\", \"target_class\")\n",
    "my_list"
   ]
  },
  {
   "cell_type": "code",
   "execution_count": 17,
   "metadata": {},
   "outputs": [
    {
     "data": {
      "text/html": [
       "<table class=\"dataframe\">\n",
       "<caption>A matrix: 5 × 5 of type dbl</caption>\n",
       "<tbody>\n",
       "\t<tr><td>0.2</td><td>0.4</td><td>0.2</td><td>0.4</td><td>0.2</td></tr>\n",
       "\t<tr><td>0.2</td><td>0.3</td><td>0.2</td><td>0.4</td><td>0.4</td></tr>\n",
       "\t<tr><td>0.2</td><td>0.2</td><td>0.1</td><td>0.3</td><td>0.2</td></tr>\n",
       "\t<tr><td>0.2</td><td>0.2</td><td>0.1</td><td>0.3</td><td>0.5</td></tr>\n",
       "\t<tr><td>0.2</td><td>0.1</td><td>0.2</td><td>0.3</td><td>0.2</td></tr>\n",
       "</tbody>\n",
       "</table>\n"
      ],
      "text/latex": [
       "A matrix: 5 × 5 of type dbl\n",
       "\\begin{tabular}{lllll}\n",
       "\t 0.2 & 0.4 & 0.2 & 0.4 & 0.2\\\\\n",
       "\t 0.2 & 0.3 & 0.2 & 0.4 & 0.4\\\\\n",
       "\t 0.2 & 0.2 & 0.1 & 0.3 & 0.2\\\\\n",
       "\t 0.2 & 0.2 & 0.1 & 0.3 & 0.5\\\\\n",
       "\t 0.2 & 0.1 & 0.2 & 0.3 & 0.2\\\\\n",
       "\\end{tabular}\n"
      ],
      "text/markdown": [
       "\n",
       "A matrix: 5 × 5 of type dbl\n",
       "\n",
       "| 0.2 | 0.4 | 0.2 | 0.4 | 0.2 |\n",
       "| 0.2 | 0.3 | 0.2 | 0.4 | 0.4 |\n",
       "| 0.2 | 0.2 | 0.1 | 0.3 | 0.2 |\n",
       "| 0.2 | 0.2 | 0.1 | 0.3 | 0.5 |\n",
       "| 0.2 | 0.1 | 0.2 | 0.3 | 0.2 |\n",
       "\n"
      ],
      "text/plain": [
       "     [,1] [,2] [,3] [,4] [,5]\n",
       "[1,] 0.2  0.4  0.2  0.4  0.2 \n",
       "[2,] 0.2  0.3  0.2  0.4  0.4 \n",
       "[3,] 0.2  0.2  0.1  0.3  0.2 \n",
       "[4,] 0.2  0.2  0.1  0.3  0.5 \n",
       "[5,] 0.2  0.1  0.2  0.3  0.2 "
      ]
     },
     "metadata": {},
     "output_type": "display_data"
    }
   ],
   "source": [
    "#3 Create two different matrices (5x5) by using the petal_width of the first 50 observations of the Iris dataset. Then;\n",
    "my_vec <- irisData$petal_width[1:50]\n",
    "X <- matrix(my_vec[1:25], nrow=5)\n",
    "Y <- matrix(my_vec[26:50], nrow=5)\n",
    "X"
   ]
  },
  {
   "cell_type": "code",
   "execution_count": 19,
   "metadata": {},
   "outputs": [
    {
     "data": {
      "text/html": [
       "<table class=\"dataframe\">\n",
       "<caption>A matrix: 5 × 5 of type dbl</caption>\n",
       "<tbody>\n",
       "\t<tr><td>0.4</td><td>0.6</td><td>0.4</td><td>0.7</td><td>0.5</td></tr>\n",
       "\t<tr><td>0.6</td><td>0.7</td><td>0.4</td><td>0.7</td><td>0.6</td></tr>\n",
       "\t<tr><td>0.4</td><td>0.3</td><td>0.2</td><td>0.5</td><td>0.4</td></tr>\n",
       "\t<tr><td>0.4</td><td>0.4</td><td>0.3</td><td>0.9</td><td>0.7</td></tr>\n",
       "\t<tr><td>0.4</td><td>0.2</td><td>0.4</td><td>0.7</td><td>0.4</td></tr>\n",
       "</tbody>\n",
       "</table>\n"
      ],
      "text/latex": [
       "A matrix: 5 × 5 of type dbl\n",
       "\\begin{tabular}{lllll}\n",
       "\t 0.4 & 0.6 & 0.4 & 0.7 & 0.5\\\\\n",
       "\t 0.6 & 0.7 & 0.4 & 0.7 & 0.6\\\\\n",
       "\t 0.4 & 0.3 & 0.2 & 0.5 & 0.4\\\\\n",
       "\t 0.4 & 0.4 & 0.3 & 0.9 & 0.7\\\\\n",
       "\t 0.4 & 0.2 & 0.4 & 0.7 & 0.4\\\\\n",
       "\\end{tabular}\n"
      ],
      "text/markdown": [
       "\n",
       "A matrix: 5 × 5 of type dbl\n",
       "\n",
       "| 0.4 | 0.6 | 0.4 | 0.7 | 0.5 |\n",
       "| 0.6 | 0.7 | 0.4 | 0.7 | 0.6 |\n",
       "| 0.4 | 0.3 | 0.2 | 0.5 | 0.4 |\n",
       "| 0.4 | 0.4 | 0.3 | 0.9 | 0.7 |\n",
       "| 0.4 | 0.2 | 0.4 | 0.7 | 0.4 |\n",
       "\n"
      ],
      "text/plain": [
       "     [,1] [,2] [,3] [,4] [,5]\n",
       "[1,] 0.4  0.6  0.4  0.7  0.5 \n",
       "[2,] 0.6  0.7  0.4  0.7  0.6 \n",
       "[3,] 0.4  0.3  0.2  0.5  0.4 \n",
       "[4,] 0.4  0.4  0.3  0.9  0.7 \n",
       "[5,] 0.4  0.2  0.4  0.7  0.4 "
      ]
     },
     "metadata": {},
     "output_type": "display_data"
    }
   ],
   "source": [
    "# 3.1 print the sum of the matrice\n",
    "X+Y"
   ]
  },
  {
   "cell_type": "code",
   "execution_count": 20,
   "metadata": {},
   "outputs": [
    {
     "data": {
      "text/html": [
       "<table class=\"dataframe\">\n",
       "<caption>A matrix: 5 × 5 of type dbl</caption>\n",
       "<tbody>\n",
       "\t<tr><td>0.36</td><td>0.32</td><td>0.26</td><td>0.54</td><td>0.30</td></tr>\n",
       "\t<tr><td>0.36</td><td>0.30</td><td>0.28</td><td>0.59</td><td>0.32</td></tr>\n",
       "\t<tr><td>0.24</td><td>0.21</td><td>0.19</td><td>0.40</td><td>0.22</td></tr>\n",
       "\t<tr><td>0.30</td><td>0.24</td><td>0.25</td><td>0.52</td><td>0.28</td></tr>\n",
       "\t<tr><td>0.22</td><td>0.18</td><td>0.18</td><td>0.39</td><td>0.22</td></tr>\n",
       "</tbody>\n",
       "</table>\n"
      ],
      "text/latex": [
       "A matrix: 5 × 5 of type dbl\n",
       "\\begin{tabular}{lllll}\n",
       "\t 0.36 & 0.32 & 0.26 & 0.54 & 0.30\\\\\n",
       "\t 0.36 & 0.30 & 0.28 & 0.59 & 0.32\\\\\n",
       "\t 0.24 & 0.21 & 0.19 & 0.40 & 0.22\\\\\n",
       "\t 0.30 & 0.24 & 0.25 & 0.52 & 0.28\\\\\n",
       "\t 0.22 & 0.18 & 0.18 & 0.39 & 0.22\\\\\n",
       "\\end{tabular}\n"
      ],
      "text/markdown": [
       "\n",
       "A matrix: 5 × 5 of type dbl\n",
       "\n",
       "| 0.36 | 0.32 | 0.26 | 0.54 | 0.30 |\n",
       "| 0.36 | 0.30 | 0.28 | 0.59 | 0.32 |\n",
       "| 0.24 | 0.21 | 0.19 | 0.40 | 0.22 |\n",
       "| 0.30 | 0.24 | 0.25 | 0.52 | 0.28 |\n",
       "| 0.22 | 0.18 | 0.18 | 0.39 | 0.22 |\n",
       "\n"
      ],
      "text/plain": [
       "     [,1] [,2] [,3] [,4] [,5]\n",
       "[1,] 0.36 0.32 0.26 0.54 0.30\n",
       "[2,] 0.36 0.30 0.28 0.59 0.32\n",
       "[3,] 0.24 0.21 0.19 0.40 0.22\n",
       "[4,] 0.30 0.24 0.25 0.52 0.28\n",
       "[5,] 0.22 0.18 0.18 0.39 0.22"
      ]
     },
     "metadata": {},
     "output_type": "display_data"
    }
   ],
   "source": [
    "# 3.2 perform matrix multiplication and print the result.\n",
    "X %*% Y"
   ]
  },
  {
   "cell_type": "code",
   "execution_count": 22,
   "metadata": {},
   "outputs": [
    {
     "data": {
      "text/html": [
       "<table class=\"dataframe\">\n",
       "<caption>A matrix: 5 × 5 of type dbl</caption>\n",
       "<tbody>\n",
       "\t<tr><td>0.2</td><td>0.2</td><td>0.2</td><td>0.2</td><td>0.2</td></tr>\n",
       "\t<tr><td>0.4</td><td>0.3</td><td>0.2</td><td>0.2</td><td>0.1</td></tr>\n",
       "\t<tr><td>0.2</td><td>0.2</td><td>0.1</td><td>0.1</td><td>0.2</td></tr>\n",
       "\t<tr><td>0.4</td><td>0.4</td><td>0.3</td><td>0.3</td><td>0.3</td></tr>\n",
       "\t<tr><td>0.2</td><td>0.4</td><td>0.2</td><td>0.5</td><td>0.2</td></tr>\n",
       "</tbody>\n",
       "</table>\n"
      ],
      "text/latex": [
       "A matrix: 5 × 5 of type dbl\n",
       "\\begin{tabular}{lllll}\n",
       "\t 0.2 & 0.2 & 0.2 & 0.2 & 0.2\\\\\n",
       "\t 0.4 & 0.3 & 0.2 & 0.2 & 0.1\\\\\n",
       "\t 0.2 & 0.2 & 0.1 & 0.1 & 0.2\\\\\n",
       "\t 0.4 & 0.4 & 0.3 & 0.3 & 0.3\\\\\n",
       "\t 0.2 & 0.4 & 0.2 & 0.5 & 0.2\\\\\n",
       "\\end{tabular}\n"
      ],
      "text/markdown": [
       "\n",
       "A matrix: 5 × 5 of type dbl\n",
       "\n",
       "| 0.2 | 0.2 | 0.2 | 0.2 | 0.2 |\n",
       "| 0.4 | 0.3 | 0.2 | 0.2 | 0.1 |\n",
       "| 0.2 | 0.2 | 0.1 | 0.1 | 0.2 |\n",
       "| 0.4 | 0.4 | 0.3 | 0.3 | 0.3 |\n",
       "| 0.2 | 0.4 | 0.2 | 0.5 | 0.2 |\n",
       "\n"
      ],
      "text/plain": [
       "     [,1] [,2] [,3] [,4] [,5]\n",
       "[1,] 0.2  0.2  0.2  0.2  0.2 \n",
       "[2,] 0.4  0.3  0.2  0.2  0.1 \n",
       "[3,] 0.2  0.2  0.1  0.1  0.2 \n",
       "[4,] 0.4  0.4  0.3  0.3  0.3 \n",
       "[5,] 0.2  0.4  0.2  0.5  0.2 "
      ]
     },
     "metadata": {},
     "output_type": "display_data"
    },
    {
     "data": {
      "text/html": [
       "<table class=\"dataframe\">\n",
       "<caption>A matrix: 5 × 5 of type dbl</caption>\n",
       "<tbody>\n",
       "\t<tr><td>0.2</td><td>0.4</td><td>0.2</td><td>0.2</td><td>0.2</td></tr>\n",
       "\t<tr><td>0.2</td><td>0.4</td><td>0.1</td><td>0.2</td><td>0.1</td></tr>\n",
       "\t<tr><td>0.2</td><td>0.2</td><td>0.1</td><td>0.2</td><td>0.2</td></tr>\n",
       "\t<tr><td>0.3</td><td>0.3</td><td>0.2</td><td>0.6</td><td>0.4</td></tr>\n",
       "\t<tr><td>0.3</td><td>0.2</td><td>0.2</td><td>0.2</td><td>0.2</td></tr>\n",
       "</tbody>\n",
       "</table>\n"
      ],
      "text/latex": [
       "A matrix: 5 × 5 of type dbl\n",
       "\\begin{tabular}{lllll}\n",
       "\t 0.2 & 0.4 & 0.2 & 0.2 & 0.2\\\\\n",
       "\t 0.2 & 0.4 & 0.1 & 0.2 & 0.1\\\\\n",
       "\t 0.2 & 0.2 & 0.1 & 0.2 & 0.2\\\\\n",
       "\t 0.3 & 0.3 & 0.2 & 0.6 & 0.4\\\\\n",
       "\t 0.3 & 0.2 & 0.2 & 0.2 & 0.2\\\\\n",
       "\\end{tabular}\n"
      ],
      "text/markdown": [
       "\n",
       "A matrix: 5 × 5 of type dbl\n",
       "\n",
       "| 0.2 | 0.4 | 0.2 | 0.2 | 0.2 |\n",
       "| 0.2 | 0.4 | 0.1 | 0.2 | 0.1 |\n",
       "| 0.2 | 0.2 | 0.1 | 0.2 | 0.2 |\n",
       "| 0.3 | 0.3 | 0.2 | 0.6 | 0.4 |\n",
       "| 0.3 | 0.2 | 0.2 | 0.2 | 0.2 |\n",
       "\n"
      ],
      "text/plain": [
       "     [,1] [,2] [,3] [,4] [,5]\n",
       "[1,] 0.2  0.4  0.2  0.2  0.2 \n",
       "[2,] 0.2  0.4  0.1  0.2  0.1 \n",
       "[3,] 0.2  0.2  0.1  0.2  0.2 \n",
       "[4,] 0.3  0.3  0.2  0.6  0.4 \n",
       "[5,] 0.3  0.2  0.2  0.2  0.2 "
      ]
     },
     "metadata": {},
     "output_type": "display_data"
    }
   ],
   "source": [
    "# 3.2 take the transpose of the two matrices and assign them to two variables.\n",
    "X_t <- t(X)\n",
    "X_t\n",
    "Y_t <- t(Y)\n",
    "Y_t"
   ]
  },
  {
   "cell_type": "code",
   "execution_count": 23,
   "metadata": {},
   "outputs": [
    {
     "data": {
      "text/html": [
       "<table class=\"dataframe\">\n",
       "<caption>A matrix: 10 × 5 of type dbl</caption>\n",
       "<tbody>\n",
       "\t<tr><td>0.2</td><td>0.2</td><td>0.2</td><td>0.2</td><td>0.2</td></tr>\n",
       "\t<tr><td>0.4</td><td>0.3</td><td>0.2</td><td>0.2</td><td>0.1</td></tr>\n",
       "\t<tr><td>0.2</td><td>0.2</td><td>0.1</td><td>0.1</td><td>0.2</td></tr>\n",
       "\t<tr><td>0.4</td><td>0.4</td><td>0.3</td><td>0.3</td><td>0.3</td></tr>\n",
       "\t<tr><td>0.2</td><td>0.4</td><td>0.2</td><td>0.5</td><td>0.2</td></tr>\n",
       "\t<tr><td>0.2</td><td>0.4</td><td>0.2</td><td>0.4</td><td>0.2</td></tr>\n",
       "\t<tr><td>0.2</td><td>0.3</td><td>0.2</td><td>0.4</td><td>0.4</td></tr>\n",
       "\t<tr><td>0.2</td><td>0.2</td><td>0.1</td><td>0.3</td><td>0.2</td></tr>\n",
       "\t<tr><td>0.2</td><td>0.2</td><td>0.1</td><td>0.3</td><td>0.5</td></tr>\n",
       "\t<tr><td>0.2</td><td>0.1</td><td>0.2</td><td>0.3</td><td>0.2</td></tr>\n",
       "</tbody>\n",
       "</table>\n"
      ],
      "text/latex": [
       "A matrix: 10 × 5 of type dbl\n",
       "\\begin{tabular}{lllll}\n",
       "\t 0.2 & 0.2 & 0.2 & 0.2 & 0.2\\\\\n",
       "\t 0.4 & 0.3 & 0.2 & 0.2 & 0.1\\\\\n",
       "\t 0.2 & 0.2 & 0.1 & 0.1 & 0.2\\\\\n",
       "\t 0.4 & 0.4 & 0.3 & 0.3 & 0.3\\\\\n",
       "\t 0.2 & 0.4 & 0.2 & 0.5 & 0.2\\\\\n",
       "\t 0.2 & 0.4 & 0.2 & 0.4 & 0.2\\\\\n",
       "\t 0.2 & 0.3 & 0.2 & 0.4 & 0.4\\\\\n",
       "\t 0.2 & 0.2 & 0.1 & 0.3 & 0.2\\\\\n",
       "\t 0.2 & 0.2 & 0.1 & 0.3 & 0.5\\\\\n",
       "\t 0.2 & 0.1 & 0.2 & 0.3 & 0.2\\\\\n",
       "\\end{tabular}\n"
      ],
      "text/markdown": [
       "\n",
       "A matrix: 10 × 5 of type dbl\n",
       "\n",
       "| 0.2 | 0.2 | 0.2 | 0.2 | 0.2 |\n",
       "| 0.4 | 0.3 | 0.2 | 0.2 | 0.1 |\n",
       "| 0.2 | 0.2 | 0.1 | 0.1 | 0.2 |\n",
       "| 0.4 | 0.4 | 0.3 | 0.3 | 0.3 |\n",
       "| 0.2 | 0.4 | 0.2 | 0.5 | 0.2 |\n",
       "| 0.2 | 0.4 | 0.2 | 0.4 | 0.2 |\n",
       "| 0.2 | 0.3 | 0.2 | 0.4 | 0.4 |\n",
       "| 0.2 | 0.2 | 0.1 | 0.3 | 0.2 |\n",
       "| 0.2 | 0.2 | 0.1 | 0.3 | 0.5 |\n",
       "| 0.2 | 0.1 | 0.2 | 0.3 | 0.2 |\n",
       "\n"
      ],
      "text/plain": [
       "      [,1] [,2] [,3] [,4] [,5]\n",
       " [1,] 0.2  0.2  0.2  0.2  0.2 \n",
       " [2,] 0.4  0.3  0.2  0.2  0.1 \n",
       " [3,] 0.2  0.2  0.1  0.1  0.2 \n",
       " [4,] 0.4  0.4  0.3  0.3  0.3 \n",
       " [5,] 0.2  0.4  0.2  0.5  0.2 \n",
       " [6,] 0.2  0.4  0.2  0.4  0.2 \n",
       " [7,] 0.2  0.3  0.2  0.4  0.4 \n",
       " [8,] 0.2  0.2  0.1  0.3  0.2 \n",
       " [9,] 0.2  0.2  0.1  0.3  0.5 \n",
       "[10,] 0.2  0.1  0.2  0.3  0.2 "
      ]
     },
     "metadata": {},
     "output_type": "display_data"
    }
   ],
   "source": [
    "# 3.3 bind the first matrix to the transpose of the first matrix by row.\n",
    "X_t <- rbind(X_t, X)\n",
    "X_t"
   ]
  },
  {
   "cell_type": "code",
   "execution_count": 24,
   "metadata": {},
   "outputs": [
    {
     "data": {
      "text/html": [
       "<table class=\"dataframe\">\n",
       "<caption>A matrix: 5 × 10 of type dbl</caption>\n",
       "<tbody>\n",
       "\t<tr><td>0.2</td><td>0.4</td><td>0.2</td><td>0.2</td><td>0.2</td><td>0.2</td><td>0.2</td><td>0.2</td><td>0.3</td><td>0.3</td></tr>\n",
       "\t<tr><td>0.2</td><td>0.4</td><td>0.1</td><td>0.2</td><td>0.1</td><td>0.4</td><td>0.4</td><td>0.2</td><td>0.3</td><td>0.2</td></tr>\n",
       "\t<tr><td>0.2</td><td>0.2</td><td>0.1</td><td>0.2</td><td>0.2</td><td>0.2</td><td>0.1</td><td>0.1</td><td>0.2</td><td>0.2</td></tr>\n",
       "\t<tr><td>0.3</td><td>0.3</td><td>0.2</td><td>0.6</td><td>0.4</td><td>0.2</td><td>0.2</td><td>0.2</td><td>0.6</td><td>0.2</td></tr>\n",
       "\t<tr><td>0.3</td><td>0.2</td><td>0.2</td><td>0.2</td><td>0.2</td><td>0.2</td><td>0.1</td><td>0.2</td><td>0.4</td><td>0.2</td></tr>\n",
       "</tbody>\n",
       "</table>\n"
      ],
      "text/latex": [
       "A matrix: 5 × 10 of type dbl\n",
       "\\begin{tabular}{llllllllll}\n",
       "\t 0.2 & 0.4 & 0.2 & 0.2 & 0.2 & 0.2 & 0.2 & 0.2 & 0.3 & 0.3\\\\\n",
       "\t 0.2 & 0.4 & 0.1 & 0.2 & 0.1 & 0.4 & 0.4 & 0.2 & 0.3 & 0.2\\\\\n",
       "\t 0.2 & 0.2 & 0.1 & 0.2 & 0.2 & 0.2 & 0.1 & 0.1 & 0.2 & 0.2\\\\\n",
       "\t 0.3 & 0.3 & 0.2 & 0.6 & 0.4 & 0.2 & 0.2 & 0.2 & 0.6 & 0.2\\\\\n",
       "\t 0.3 & 0.2 & 0.2 & 0.2 & 0.2 & 0.2 & 0.1 & 0.2 & 0.4 & 0.2\\\\\n",
       "\\end{tabular}\n"
      ],
      "text/markdown": [
       "\n",
       "A matrix: 5 × 10 of type dbl\n",
       "\n",
       "| 0.2 | 0.4 | 0.2 | 0.2 | 0.2 | 0.2 | 0.2 | 0.2 | 0.3 | 0.3 |\n",
       "| 0.2 | 0.4 | 0.1 | 0.2 | 0.1 | 0.4 | 0.4 | 0.2 | 0.3 | 0.2 |\n",
       "| 0.2 | 0.2 | 0.1 | 0.2 | 0.2 | 0.2 | 0.1 | 0.1 | 0.2 | 0.2 |\n",
       "| 0.3 | 0.3 | 0.2 | 0.6 | 0.4 | 0.2 | 0.2 | 0.2 | 0.6 | 0.2 |\n",
       "| 0.3 | 0.2 | 0.2 | 0.2 | 0.2 | 0.2 | 0.1 | 0.2 | 0.4 | 0.2 |\n",
       "\n"
      ],
      "text/plain": [
       "     [,1] [,2] [,3] [,4] [,5] [,6] [,7] [,8] [,9] [,10]\n",
       "[1,] 0.2  0.4  0.2  0.2  0.2  0.2  0.2  0.2  0.3  0.3  \n",
       "[2,] 0.2  0.4  0.1  0.2  0.1  0.4  0.4  0.2  0.3  0.2  \n",
       "[3,] 0.2  0.2  0.1  0.2  0.2  0.2  0.1  0.1  0.2  0.2  \n",
       "[4,] 0.3  0.3  0.2  0.6  0.4  0.2  0.2  0.2  0.6  0.2  \n",
       "[5,] 0.3  0.2  0.2  0.2  0.2  0.2  0.1  0.2  0.4  0.2  "
      ]
     },
     "metadata": {},
     "output_type": "display_data"
    }
   ],
   "source": [
    "# 3.4 bind the second matrix to the transpose of the second matrix by column.\n",
    "Y_t <- cbind(Y_t, Y)\n",
    "Y_t"
   ]
  },
  {
   "cell_type": "code",
   "execution_count": 35,
   "metadata": {},
   "outputs": [],
   "source": [
    "#4 Read the Mall Customers dataset (https://www.kaggle.com/shwetabh123/mall-customers). According to Mall Customers dataset, perform the followings:\n",
    "setwd(\"C:/Users/Deniz/Data\")  #getwd"
   ]
  },
  {
   "cell_type": "code",
   "execution_count": 36,
   "metadata": {},
   "outputs": [
    {
     "data": {
      "text/html": [
       "<table class=\"dataframe\">\n",
       "<caption>A data.frame: 6 × 5</caption>\n",
       "<thead>\n",
       "\t<tr><th></th><th scope=col>CustomerID</th><th scope=col>Genre</th><th scope=col>Age</th><th scope=col>Annual.Income..k..</th><th scope=col>Spending.Score..1.100.</th></tr>\n",
       "\t<tr><th></th><th scope=col>&lt;int&gt;</th><th scope=col>&lt;chr&gt;</th><th scope=col>&lt;int&gt;</th><th scope=col>&lt;int&gt;</th><th scope=col>&lt;int&gt;</th></tr>\n",
       "</thead>\n",
       "<tbody>\n",
       "\t<tr><th scope=row>1</th><td>1</td><td>Male  </td><td>19</td><td>15</td><td>39</td></tr>\n",
       "\t<tr><th scope=row>2</th><td>2</td><td>Male  </td><td>21</td><td>15</td><td>81</td></tr>\n",
       "\t<tr><th scope=row>3</th><td>3</td><td>Female</td><td>20</td><td>16</td><td> 6</td></tr>\n",
       "\t<tr><th scope=row>4</th><td>4</td><td>Female</td><td>23</td><td>16</td><td>77</td></tr>\n",
       "\t<tr><th scope=row>5</th><td>5</td><td>Female</td><td>31</td><td>17</td><td>40</td></tr>\n",
       "\t<tr><th scope=row>6</th><td>6</td><td>Female</td><td>22</td><td>17</td><td>76</td></tr>\n",
       "</tbody>\n",
       "</table>\n"
      ],
      "text/latex": [
       "A data.frame: 6 × 5\n",
       "\\begin{tabular}{r|lllll}\n",
       "  & CustomerID & Genre & Age & Annual.Income..k.. & Spending.Score..1.100.\\\\\n",
       "  & <int> & <chr> & <int> & <int> & <int>\\\\\n",
       "\\hline\n",
       "\t1 & 1 & Male   & 19 & 15 & 39\\\\\n",
       "\t2 & 2 & Male   & 21 & 15 & 81\\\\\n",
       "\t3 & 3 & Female & 20 & 16 &  6\\\\\n",
       "\t4 & 4 & Female & 23 & 16 & 77\\\\\n",
       "\t5 & 5 & Female & 31 & 17 & 40\\\\\n",
       "\t6 & 6 & Female & 22 & 17 & 76\\\\\n",
       "\\end{tabular}\n"
      ],
      "text/markdown": [
       "\n",
       "A data.frame: 6 × 5\n",
       "\n",
       "| <!--/--> | CustomerID &lt;int&gt; | Genre &lt;chr&gt; | Age &lt;int&gt; | Annual.Income..k.. &lt;int&gt; | Spending.Score..1.100. &lt;int&gt; |\n",
       "|---|---|---|---|---|---|\n",
       "| 1 | 1 | Male   | 19 | 15 | 39 |\n",
       "| 2 | 2 | Male   | 21 | 15 | 81 |\n",
       "| 3 | 3 | Female | 20 | 16 |  6 |\n",
       "| 4 | 4 | Female | 23 | 16 | 77 |\n",
       "| 5 | 5 | Female | 31 | 17 | 40 |\n",
       "| 6 | 6 | Female | 22 | 17 | 76 |\n",
       "\n"
      ],
      "text/plain": [
       "  CustomerID Genre  Age Annual.Income..k.. Spending.Score..1.100.\n",
       "1 1          Male   19  15                 39                    \n",
       "2 2          Male   21  15                 81                    \n",
       "3 3          Female 20  16                  6                    \n",
       "4 4          Female 23  16                 77                    \n",
       "5 5          Female 31  17                 40                    \n",
       "6 6          Female 22  17                 76                    "
      ]
     },
     "metadata": {},
     "output_type": "display_data"
    }
   ],
   "source": [
    "fileName <- \"Mall_Customers.csv\"\n",
    "my_customers <- read.table(file=fileName, header=TRUE, sep=\",\")\n",
    "head(my_customers)"
   ]
  },
  {
   "cell_type": "code",
   "execution_count": 37,
   "metadata": {},
   "outputs": [
    {
     "data": {
      "text/html": [
       "<table class=\"dataframe\">\n",
       "<caption>A data.frame: 6 × 4</caption>\n",
       "<thead>\n",
       "\t<tr><th></th><th scope=col>Genre</th><th scope=col>Age</th><th scope=col>Annual.Income..k..</th><th scope=col>Spending.Score..1.100.</th></tr>\n",
       "\t<tr><th></th><th scope=col>&lt;chr&gt;</th><th scope=col>&lt;int&gt;</th><th scope=col>&lt;int&gt;</th><th scope=col>&lt;int&gt;</th></tr>\n",
       "</thead>\n",
       "<tbody>\n",
       "\t<tr><th scope=row>1</th><td>Male  </td><td>19</td><td>15</td><td>39</td></tr>\n",
       "\t<tr><th scope=row>2</th><td>Male  </td><td>21</td><td>15</td><td>81</td></tr>\n",
       "\t<tr><th scope=row>3</th><td>Female</td><td>20</td><td>16</td><td> 6</td></tr>\n",
       "\t<tr><th scope=row>4</th><td>Female</td><td>23</td><td>16</td><td>77</td></tr>\n",
       "\t<tr><th scope=row>5</th><td>Female</td><td>31</td><td>17</td><td>40</td></tr>\n",
       "\t<tr><th scope=row>6</th><td>Female</td><td>22</td><td>17</td><td>76</td></tr>\n",
       "</tbody>\n",
       "</table>\n"
      ],
      "text/latex": [
       "A data.frame: 6 × 4\n",
       "\\begin{tabular}{r|llll}\n",
       "  & Genre & Age & Annual.Income..k.. & Spending.Score..1.100.\\\\\n",
       "  & <chr> & <int> & <int> & <int>\\\\\n",
       "\\hline\n",
       "\t1 & Male   & 19 & 15 & 39\\\\\n",
       "\t2 & Male   & 21 & 15 & 81\\\\\n",
       "\t3 & Female & 20 & 16 &  6\\\\\n",
       "\t4 & Female & 23 & 16 & 77\\\\\n",
       "\t5 & Female & 31 & 17 & 40\\\\\n",
       "\t6 & Female & 22 & 17 & 76\\\\\n",
       "\\end{tabular}\n"
      ],
      "text/markdown": [
       "\n",
       "A data.frame: 6 × 4\n",
       "\n",
       "| <!--/--> | Genre &lt;chr&gt; | Age &lt;int&gt; | Annual.Income..k.. &lt;int&gt; | Spending.Score..1.100. &lt;int&gt; |\n",
       "|---|---|---|---|---|\n",
       "| 1 | Male   | 19 | 15 | 39 |\n",
       "| 2 | Male   | 21 | 15 | 81 |\n",
       "| 3 | Female | 20 | 16 |  6 |\n",
       "| 4 | Female | 23 | 16 | 77 |\n",
       "| 5 | Female | 31 | 17 | 40 |\n",
       "| 6 | Female | 22 | 17 | 76 |\n",
       "\n"
      ],
      "text/plain": [
       "  Genre  Age Annual.Income..k.. Spending.Score..1.100.\n",
       "1 Male   19  15                 39                    \n",
       "2 Male   21  15                 81                    \n",
       "3 Female 20  16                  6                    \n",
       "4 Female 23  16                 77                    \n",
       "5 Female 31  17                 40                    \n",
       "6 Female 22  17                 76                    "
      ]
     },
     "metadata": {},
     "output_type": "display_data"
    }
   ],
   "source": [
    "#4.1 assign the CustomerID column as row names of the dataset, then delete the first column of the dataset.\n",
    "rownames(my_customers) <- my_customers$CustomerID\n",
    "my_customers <- my_customers[,-1]\n",
    "head(my_customers)"
   ]
  },
  {
   "cell_type": "code",
   "execution_count": 38,
   "metadata": {},
   "outputs": [
    {
     "data": {
      "text/html": [
       "'factor'"
      ],
      "text/latex": [
       "'factor'"
      ],
      "text/markdown": [
       "'factor'"
      ],
      "text/plain": [
       "[1] \"factor\""
      ]
     },
     "metadata": {},
     "output_type": "display_data"
    }
   ],
   "source": [
    "#4.2 transform the genre to a factor.\n",
    "my_customers$Genre <- as.factor(my_customers$Genre)\n",
    "class(my_customers$Genre)"
   ]
  },
  {
   "cell_type": "code",
   "execution_count": 39,
   "metadata": {},
   "outputs": [],
   "source": [
    "#4.3 save the dataset as RData file. Then write the R code that loads the dataset.\n",
    "#save(my_customers, file = \"my_cust.RData\")\n",
    "#load(file = \"my_cust.RData\")"
   ]
  },
  {
   "cell_type": "code",
   "execution_count": 45,
   "metadata": {},
   "outputs": [
    {
     "data": {
      "text/html": [
       "<table class=\"dataframe\">\n",
       "<caption>A data.frame: 6 × 4</caption>\n",
       "<thead>\n",
       "\t<tr><th></th><th scope=col>Genre</th><th scope=col>Age</th><th scope=col>income</th><th scope=col>spendingScore</th></tr>\n",
       "\t<tr><th></th><th scope=col>&lt;fct&gt;</th><th scope=col>&lt;int&gt;</th><th scope=col>&lt;int&gt;</th><th scope=col>&lt;int&gt;</th></tr>\n",
       "</thead>\n",
       "<tbody>\n",
       "\t<tr><th scope=row>1</th><td>Male  </td><td>19</td><td>15</td><td>39</td></tr>\n",
       "\t<tr><th scope=row>2</th><td>Male  </td><td>21</td><td>15</td><td>81</td></tr>\n",
       "\t<tr><th scope=row>3</th><td>Female</td><td>20</td><td>16</td><td> 6</td></tr>\n",
       "\t<tr><th scope=row>4</th><td>Female</td><td>23</td><td>16</td><td>77</td></tr>\n",
       "\t<tr><th scope=row>5</th><td>Female</td><td>31</td><td>17</td><td>40</td></tr>\n",
       "\t<tr><th scope=row>6</th><td>Female</td><td>22</td><td>17</td><td>76</td></tr>\n",
       "</tbody>\n",
       "</table>\n"
      ],
      "text/latex": [
       "A data.frame: 6 × 4\n",
       "\\begin{tabular}{r|llll}\n",
       "  & Genre & Age & income & spendingScore\\\\\n",
       "  & <fct> & <int> & <int> & <int>\\\\\n",
       "\\hline\n",
       "\t1 & Male   & 19 & 15 & 39\\\\\n",
       "\t2 & Male   & 21 & 15 & 81\\\\\n",
       "\t3 & Female & 20 & 16 &  6\\\\\n",
       "\t4 & Female & 23 & 16 & 77\\\\\n",
       "\t5 & Female & 31 & 17 & 40\\\\\n",
       "\t6 & Female & 22 & 17 & 76\\\\\n",
       "\\end{tabular}\n"
      ],
      "text/markdown": [
       "\n",
       "A data.frame: 6 × 4\n",
       "\n",
       "| <!--/--> | Genre &lt;fct&gt; | Age &lt;int&gt; | income &lt;int&gt; | spendingScore &lt;int&gt; |\n",
       "|---|---|---|---|---|\n",
       "| 1 | Male   | 19 | 15 | 39 |\n",
       "| 2 | Male   | 21 | 15 | 81 |\n",
       "| 3 | Female | 20 | 16 |  6 |\n",
       "| 4 | Female | 23 | 16 | 77 |\n",
       "| 5 | Female | 31 | 17 | 40 |\n",
       "| 6 | Female | 22 | 17 | 76 |\n",
       "\n"
      ],
      "text/plain": [
       "  Genre  Age income spendingScore\n",
       "1 Male   19  15     39           \n",
       "2 Male   21  15     81           \n",
       "3 Female 20  16      6           \n",
       "4 Female 23  16     77           \n",
       "5 Female 31  17     40           \n",
       "6 Female 22  17     76           "
      ]
     },
     "metadata": {},
     "output_type": "display_data"
    }
   ],
   "source": [
    "#4.4 change names of the last two columns as “income” and “spendingScore”, respectively.\n",
    "colnames(my_customers)[3:4] <- c(\"income\", \"spendingScore\")\n",
    "head(my_customers)"
   ]
  },
  {
   "cell_type": "code",
   "execution_count": 58,
   "metadata": {},
   "outputs": [
    {
     "data": {
      "text/html": [
       "<table class=\"dataframe\">\n",
       "<caption>A data.frame: 18 × 4</caption>\n",
       "<thead>\n",
       "\t<tr><th></th><th scope=col>Genre</th><th scope=col>Age</th><th scope=col>income</th><th scope=col>spendingScore</th></tr>\n",
       "\t<tr><th></th><th scope=col>&lt;fct&gt;</th><th scope=col>&lt;int&gt;</th><th scope=col>&lt;int&gt;</th><th scope=col>&lt;int&gt;</th></tr>\n",
       "</thead>\n",
       "<tbody>\n",
       "\t<tr><th scope=row>27</th><td>Female</td><td>45</td><td> 28</td><td>32</td></tr>\n",
       "\t<tr><th scope=row>29</th><td>Female</td><td>40</td><td> 29</td><td>31</td></tr>\n",
       "\t<tr><th scope=row>37</th><td>Female</td><td>42</td><td> 34</td><td>17</td></tr>\n",
       "\t<tr><th scope=row>67</th><td>Female</td><td>43</td><td> 48</td><td>50</td></tr>\n",
       "\t<tr><th scope=row>77</th><td>Female</td><td>45</td><td> 54</td><td>53</td></tr>\n",
       "\t<tr><th scope=row>78</th><td>Male  </td><td>40</td><td> 54</td><td>48</td></tr>\n",
       "\t<tr><th scope=row>94</th><td>Female</td><td>40</td><td> 60</td><td>40</td></tr>\n",
       "\t<tr><th scope=row>123</th><td>Female</td><td>40</td><td> 69</td><td>58</td></tr>\n",
       "\t<tr><th scope=row>127</th><td>Male  </td><td>43</td><td> 71</td><td>35</td></tr>\n",
       "\t<tr><th scope=row>128</th><td>Male  </td><td>40</td><td> 71</td><td>95</td></tr>\n",
       "\t<tr><th scope=row>137</th><td>Female</td><td>44</td><td> 73</td><td> 7</td></tr>\n",
       "\t<tr><th scope=row>151</th><td>Male  </td><td>43</td><td> 78</td><td>17</td></tr>\n",
       "\t<tr><th scope=row>153</th><td>Female</td><td>44</td><td> 78</td><td>20</td></tr>\n",
       "\t<tr><th scope=row>167</th><td>Male  </td><td>42</td><td> 86</td><td>20</td></tr>\n",
       "\t<tr><th scope=row>171</th><td>Male  </td><td>40</td><td> 87</td><td>13</td></tr>\n",
       "\t<tr><th scope=row>185</th><td>Female</td><td>41</td><td> 99</td><td>39</td></tr>\n",
       "\t<tr><th scope=row>189</th><td>Female</td><td>41</td><td>103</td><td>17</td></tr>\n",
       "\t<tr><th scope=row>197</th><td>Female</td><td>45</td><td>126</td><td>28</td></tr>\n",
       "</tbody>\n",
       "</table>\n"
      ],
      "text/latex": [
       "A data.frame: 18 × 4\n",
       "\\begin{tabular}{r|llll}\n",
       "  & Genre & Age & income & spendingScore\\\\\n",
       "  & <fct> & <int> & <int> & <int>\\\\\n",
       "\\hline\n",
       "\t27 & Female & 45 &  28 & 32\\\\\n",
       "\t29 & Female & 40 &  29 & 31\\\\\n",
       "\t37 & Female & 42 &  34 & 17\\\\\n",
       "\t67 & Female & 43 &  48 & 50\\\\\n",
       "\t77 & Female & 45 &  54 & 53\\\\\n",
       "\t78 & Male   & 40 &  54 & 48\\\\\n",
       "\t94 & Female & 40 &  60 & 40\\\\\n",
       "\t123 & Female & 40 &  69 & 58\\\\\n",
       "\t127 & Male   & 43 &  71 & 35\\\\\n",
       "\t128 & Male   & 40 &  71 & 95\\\\\n",
       "\t137 & Female & 44 &  73 &  7\\\\\n",
       "\t151 & Male   & 43 &  78 & 17\\\\\n",
       "\t153 & Female & 44 &  78 & 20\\\\\n",
       "\t167 & Male   & 42 &  86 & 20\\\\\n",
       "\t171 & Male   & 40 &  87 & 13\\\\\n",
       "\t185 & Female & 41 &  99 & 39\\\\\n",
       "\t189 & Female & 41 & 103 & 17\\\\\n",
       "\t197 & Female & 45 & 126 & 28\\\\\n",
       "\\end{tabular}\n"
      ],
      "text/markdown": [
       "\n",
       "A data.frame: 18 × 4\n",
       "\n",
       "| <!--/--> | Genre &lt;fct&gt; | Age &lt;int&gt; | income &lt;int&gt; | spendingScore &lt;int&gt; |\n",
       "|---|---|---|---|---|\n",
       "| 27 | Female | 45 |  28 | 32 |\n",
       "| 29 | Female | 40 |  29 | 31 |\n",
       "| 37 | Female | 42 |  34 | 17 |\n",
       "| 67 | Female | 43 |  48 | 50 |\n",
       "| 77 | Female | 45 |  54 | 53 |\n",
       "| 78 | Male   | 40 |  54 | 48 |\n",
       "| 94 | Female | 40 |  60 | 40 |\n",
       "| 123 | Female | 40 |  69 | 58 |\n",
       "| 127 | Male   | 43 |  71 | 35 |\n",
       "| 128 | Male   | 40 |  71 | 95 |\n",
       "| 137 | Female | 44 |  73 |  7 |\n",
       "| 151 | Male   | 43 |  78 | 17 |\n",
       "| 153 | Female | 44 |  78 | 20 |\n",
       "| 167 | Male   | 42 |  86 | 20 |\n",
       "| 171 | Male   | 40 |  87 | 13 |\n",
       "| 185 | Female | 41 |  99 | 39 |\n",
       "| 189 | Female | 41 | 103 | 17 |\n",
       "| 197 | Female | 45 | 126 | 28 |\n",
       "\n"
      ],
      "text/plain": [
       "    Genre  Age income spendingScore\n",
       "27  Female 45   28    32           \n",
       "29  Female 40   29    31           \n",
       "37  Female 42   34    17           \n",
       "67  Female 43   48    50           \n",
       "77  Female 45   54    53           \n",
       "78  Male   40   54    48           \n",
       "94  Female 40   60    40           \n",
       "123 Female 40   69    58           \n",
       "127 Male   43   71    35           \n",
       "128 Male   40   71    95           \n",
       "137 Female 44   73     7           \n",
       "151 Male   43   78    17           \n",
       "153 Female 44   78    20           \n",
       "167 Male   42   86    20           \n",
       "171 Male   40   87    13           \n",
       "185 Female 41   99    39           \n",
       "189 Female 41  103    17           \n",
       "197 Female 45  126    28           "
      ]
     },
     "metadata": {},
     "output_type": "display_data"
    }
   ],
   "source": [
    "#4.5 create the subset of the dataset in which age is between 40 and 45 [40, 45], or income is greater than 100.\n",
    "my_custSubset <- my_customers[(my_customers$Age >= 40 & my_customers$Age <= 45),]\n",
    "my_custSubset"
   ]
  },
  {
   "cell_type": "code",
   "execution_count": 55,
   "metadata": {},
   "outputs": [
    {
     "data": {
      "text/html": [
       "<table class=\"dataframe\">\n",
       "<caption>A data.frame: 200 × 4</caption>\n",
       "<thead>\n",
       "\t<tr><th></th><th scope=col>Genre</th><th scope=col>Age</th><th scope=col>income</th><th scope=col>spendingScore</th></tr>\n",
       "\t<tr><th></th><th scope=col>&lt;fct&gt;</th><th scope=col>&lt;int&gt;</th><th scope=col>&lt;int&gt;</th><th scope=col>&lt;int&gt;</th></tr>\n",
       "</thead>\n",
       "<tbody>\n",
       "\t<tr><th scope=row>1</th><td>Male  </td><td>19</td><td>15</td><td>39</td></tr>\n",
       "\t<tr><th scope=row>2</th><td>Male  </td><td>21</td><td>15</td><td>81</td></tr>\n",
       "\t<tr><th scope=row>3</th><td>Female</td><td>20</td><td>16</td><td> 6</td></tr>\n",
       "\t<tr><th scope=row>4</th><td>Female</td><td>23</td><td>16</td><td>77</td></tr>\n",
       "\t<tr><th scope=row>5</th><td>Female</td><td>31</td><td>17</td><td>40</td></tr>\n",
       "\t<tr><th scope=row>6</th><td>Female</td><td>22</td><td>17</td><td>76</td></tr>\n",
       "\t<tr><th scope=row>7</th><td>Female</td><td>35</td><td>18</td><td> 6</td></tr>\n",
       "\t<tr><th scope=row>8</th><td>Female</td><td>23</td><td>18</td><td>94</td></tr>\n",
       "\t<tr><th scope=row>9</th><td>Male  </td><td>64</td><td>19</td><td> 3</td></tr>\n",
       "\t<tr><th scope=row>10</th><td>Female</td><td>30</td><td>19</td><td>72</td></tr>\n",
       "\t<tr><th scope=row>11</th><td>Male  </td><td>67</td><td>19</td><td>14</td></tr>\n",
       "\t<tr><th scope=row>12</th><td>Female</td><td>35</td><td>19</td><td>99</td></tr>\n",
       "\t<tr><th scope=row>13</th><td>Female</td><td>58</td><td>20</td><td>15</td></tr>\n",
       "\t<tr><th scope=row>14</th><td>Female</td><td>24</td><td>20</td><td>77</td></tr>\n",
       "\t<tr><th scope=row>15</th><td>Male  </td><td>37</td><td>20</td><td>13</td></tr>\n",
       "\t<tr><th scope=row>16</th><td>Male  </td><td>22</td><td>20</td><td>79</td></tr>\n",
       "\t<tr><th scope=row>17</th><td>Female</td><td>35</td><td>21</td><td>35</td></tr>\n",
       "\t<tr><th scope=row>18</th><td>Male  </td><td>20</td><td>21</td><td>66</td></tr>\n",
       "\t<tr><th scope=row>19</th><td>Male  </td><td>52</td><td>23</td><td>29</td></tr>\n",
       "\t<tr><th scope=row>20</th><td>Female</td><td>35</td><td>23</td><td>98</td></tr>\n",
       "\t<tr><th scope=row>21</th><td>Male  </td><td>35</td><td>24</td><td>35</td></tr>\n",
       "\t<tr><th scope=row>22</th><td>Male  </td><td>25</td><td>24</td><td>73</td></tr>\n",
       "\t<tr><th scope=row>23</th><td>Female</td><td>46</td><td>25</td><td> 5</td></tr>\n",
       "\t<tr><th scope=row>24</th><td>Male  </td><td>31</td><td>25</td><td>73</td></tr>\n",
       "\t<tr><th scope=row>25</th><td>Female</td><td>54</td><td>28</td><td>14</td></tr>\n",
       "\t<tr><th scope=row>26</th><td>Male  </td><td>29</td><td>28</td><td>82</td></tr>\n",
       "\t<tr><th scope=row>27</th><td>Female</td><td>45</td><td>28</td><td>32</td></tr>\n",
       "\t<tr><th scope=row>28</th><td>Male  </td><td>35</td><td>28</td><td>61</td></tr>\n",
       "\t<tr><th scope=row>29</th><td>Female</td><td>40</td><td>29</td><td>31</td></tr>\n",
       "\t<tr><th scope=row>30</th><td>Female</td><td>23</td><td>29</td><td>87</td></tr>\n",
       "\t<tr><th scope=row>...</th><td>...</td><td>...</td><td>...</td><td>...</td></tr>\n",
       "\t<tr><th scope=row>171</th><td>Male  </td><td>40</td><td> 87</td><td>13</td></tr>\n",
       "\t<tr><th scope=row>172</th><td>Male  </td><td>28</td><td> 87</td><td>75</td></tr>\n",
       "\t<tr><th scope=row>173</th><td>Male  </td><td>36</td><td> 87</td><td>10</td></tr>\n",
       "\t<tr><th scope=row>174</th><td>Male  </td><td>36</td><td> 87</td><td>92</td></tr>\n",
       "\t<tr><th scope=row>175</th><td>Female</td><td>52</td><td> 88</td><td>13</td></tr>\n",
       "\t<tr><th scope=row>176</th><td>Female</td><td>30</td><td> 88</td><td>86</td></tr>\n",
       "\t<tr><th scope=row>177</th><td>Male  </td><td>58</td><td> 88</td><td>15</td></tr>\n",
       "\t<tr><th scope=row>178</th><td>Male  </td><td>27</td><td> 88</td><td>69</td></tr>\n",
       "\t<tr><th scope=row>179</th><td>Male  </td><td>59</td><td> 93</td><td>14</td></tr>\n",
       "\t<tr><th scope=row>180</th><td>Male  </td><td>35</td><td> 93</td><td>90</td></tr>\n",
       "\t<tr><th scope=row>181</th><td>Female</td><td>37</td><td> 97</td><td>32</td></tr>\n",
       "\t<tr><th scope=row>182</th><td>Female</td><td>32</td><td> 97</td><td>86</td></tr>\n",
       "\t<tr><th scope=row>183</th><td>Male  </td><td>46</td><td> 98</td><td>15</td></tr>\n",
       "\t<tr><th scope=row>184</th><td>Female</td><td>29</td><td> 98</td><td>88</td></tr>\n",
       "\t<tr><th scope=row>185</th><td>Female</td><td>41</td><td> 99</td><td>39</td></tr>\n",
       "\t<tr><th scope=row>186</th><td>Male  </td><td>30</td><td> 99</td><td>97</td></tr>\n",
       "\t<tr><th scope=row>187</th><td>Female</td><td>54</td><td>101</td><td>24</td></tr>\n",
       "\t<tr><th scope=row>188</th><td>Male  </td><td>28</td><td>101</td><td>68</td></tr>\n",
       "\t<tr><th scope=row>189</th><td>Female</td><td>41</td><td>103</td><td>17</td></tr>\n",
       "\t<tr><th scope=row>190</th><td>Female</td><td>36</td><td>103</td><td>85</td></tr>\n",
       "\t<tr><th scope=row>191</th><td>Female</td><td>34</td><td>103</td><td>23</td></tr>\n",
       "\t<tr><th scope=row>192</th><td>Female</td><td>32</td><td>103</td><td>69</td></tr>\n",
       "\t<tr><th scope=row>193</th><td>Male  </td><td>33</td><td>113</td><td> 8</td></tr>\n",
       "\t<tr><th scope=row>194</th><td>Female</td><td>38</td><td>113</td><td>91</td></tr>\n",
       "\t<tr><th scope=row>195</th><td>Female</td><td>47</td><td>120</td><td>16</td></tr>\n",
       "\t<tr><th scope=row>196</th><td>Female</td><td>35</td><td>120</td><td>79</td></tr>\n",
       "\t<tr><th scope=row>197</th><td>Female</td><td>45</td><td>126</td><td>28</td></tr>\n",
       "\t<tr><th scope=row>198</th><td>Male  </td><td>32</td><td>126</td><td>74</td></tr>\n",
       "\t<tr><th scope=row>199</th><td>Male  </td><td>32</td><td>137</td><td>18</td></tr>\n",
       "\t<tr><th scope=row>200</th><td>Male  </td><td>30</td><td>137</td><td>83</td></tr>\n",
       "</tbody>\n",
       "</table>\n"
      ],
      "text/latex": [
       "A data.frame: 200 × 4\n",
       "\\begin{tabular}{r|llll}\n",
       "  & Genre & Age & income & spendingScore\\\\\n",
       "  & <fct> & <int> & <int> & <int>\\\\\n",
       "\\hline\n",
       "\t1 & Male   & 19 & 15 & 39\\\\\n",
       "\t2 & Male   & 21 & 15 & 81\\\\\n",
       "\t3 & Female & 20 & 16 &  6\\\\\n",
       "\t4 & Female & 23 & 16 & 77\\\\\n",
       "\t5 & Female & 31 & 17 & 40\\\\\n",
       "\t6 & Female & 22 & 17 & 76\\\\\n",
       "\t7 & Female & 35 & 18 &  6\\\\\n",
       "\t8 & Female & 23 & 18 & 94\\\\\n",
       "\t9 & Male   & 64 & 19 &  3\\\\\n",
       "\t10 & Female & 30 & 19 & 72\\\\\n",
       "\t11 & Male   & 67 & 19 & 14\\\\\n",
       "\t12 & Female & 35 & 19 & 99\\\\\n",
       "\t13 & Female & 58 & 20 & 15\\\\\n",
       "\t14 & Female & 24 & 20 & 77\\\\\n",
       "\t15 & Male   & 37 & 20 & 13\\\\\n",
       "\t16 & Male   & 22 & 20 & 79\\\\\n",
       "\t17 & Female & 35 & 21 & 35\\\\\n",
       "\t18 & Male   & 20 & 21 & 66\\\\\n",
       "\t19 & Male   & 52 & 23 & 29\\\\\n",
       "\t20 & Female & 35 & 23 & 98\\\\\n",
       "\t21 & Male   & 35 & 24 & 35\\\\\n",
       "\t22 & Male   & 25 & 24 & 73\\\\\n",
       "\t23 & Female & 46 & 25 &  5\\\\\n",
       "\t24 & Male   & 31 & 25 & 73\\\\\n",
       "\t25 & Female & 54 & 28 & 14\\\\\n",
       "\t26 & Male   & 29 & 28 & 82\\\\\n",
       "\t27 & Female & 45 & 28 & 32\\\\\n",
       "\t28 & Male   & 35 & 28 & 61\\\\\n",
       "\t29 & Female & 40 & 29 & 31\\\\\n",
       "\t30 & Female & 23 & 29 & 87\\\\\n",
       "\t... & ... & ... & ... & ...\\\\\n",
       "\t171 & Male   & 40 &  87 & 13\\\\\n",
       "\t172 & Male   & 28 &  87 & 75\\\\\n",
       "\t173 & Male   & 36 &  87 & 10\\\\\n",
       "\t174 & Male   & 36 &  87 & 92\\\\\n",
       "\t175 & Female & 52 &  88 & 13\\\\\n",
       "\t176 & Female & 30 &  88 & 86\\\\\n",
       "\t177 & Male   & 58 &  88 & 15\\\\\n",
       "\t178 & Male   & 27 &  88 & 69\\\\\n",
       "\t179 & Male   & 59 &  93 & 14\\\\\n",
       "\t180 & Male   & 35 &  93 & 90\\\\\n",
       "\t181 & Female & 37 &  97 & 32\\\\\n",
       "\t182 & Female & 32 &  97 & 86\\\\\n",
       "\t183 & Male   & 46 &  98 & 15\\\\\n",
       "\t184 & Female & 29 &  98 & 88\\\\\n",
       "\t185 & Female & 41 &  99 & 39\\\\\n",
       "\t186 & Male   & 30 &  99 & 97\\\\\n",
       "\t187 & Female & 54 & 101 & 24\\\\\n",
       "\t188 & Male   & 28 & 101 & 68\\\\\n",
       "\t189 & Female & 41 & 103 & 17\\\\\n",
       "\t190 & Female & 36 & 103 & 85\\\\\n",
       "\t191 & Female & 34 & 103 & 23\\\\\n",
       "\t192 & Female & 32 & 103 & 69\\\\\n",
       "\t193 & Male   & 33 & 113 &  8\\\\\n",
       "\t194 & Female & 38 & 113 & 91\\\\\n",
       "\t195 & Female & 47 & 120 & 16\\\\\n",
       "\t196 & Female & 35 & 120 & 79\\\\\n",
       "\t197 & Female & 45 & 126 & 28\\\\\n",
       "\t198 & Male   & 32 & 126 & 74\\\\\n",
       "\t199 & Male   & 32 & 137 & 18\\\\\n",
       "\t200 & Male   & 30 & 137 & 83\\\\\n",
       "\\end{tabular}\n"
      ],
      "text/markdown": [
       "\n",
       "A data.frame: 200 × 4\n",
       "\n",
       "| <!--/--> | Genre &lt;fct&gt; | Age &lt;int&gt; | income &lt;int&gt; | spendingScore &lt;int&gt; |\n",
       "|---|---|---|---|---|\n",
       "| 1 | Male   | 19 | 15 | 39 |\n",
       "| 2 | Male   | 21 | 15 | 81 |\n",
       "| 3 | Female | 20 | 16 |  6 |\n",
       "| 4 | Female | 23 | 16 | 77 |\n",
       "| 5 | Female | 31 | 17 | 40 |\n",
       "| 6 | Female | 22 | 17 | 76 |\n",
       "| 7 | Female | 35 | 18 |  6 |\n",
       "| 8 | Female | 23 | 18 | 94 |\n",
       "| 9 | Male   | 64 | 19 |  3 |\n",
       "| 10 | Female | 30 | 19 | 72 |\n",
       "| 11 | Male   | 67 | 19 | 14 |\n",
       "| 12 | Female | 35 | 19 | 99 |\n",
       "| 13 | Female | 58 | 20 | 15 |\n",
       "| 14 | Female | 24 | 20 | 77 |\n",
       "| 15 | Male   | 37 | 20 | 13 |\n",
       "| 16 | Male   | 22 | 20 | 79 |\n",
       "| 17 | Female | 35 | 21 | 35 |\n",
       "| 18 | Male   | 20 | 21 | 66 |\n",
       "| 19 | Male   | 52 | 23 | 29 |\n",
       "| 20 | Female | 35 | 23 | 98 |\n",
       "| 21 | Male   | 35 | 24 | 35 |\n",
       "| 22 | Male   | 25 | 24 | 73 |\n",
       "| 23 | Female | 46 | 25 |  5 |\n",
       "| 24 | Male   | 31 | 25 | 73 |\n",
       "| 25 | Female | 54 | 28 | 14 |\n",
       "| 26 | Male   | 29 | 28 | 82 |\n",
       "| 27 | Female | 45 | 28 | 32 |\n",
       "| 28 | Male   | 35 | 28 | 61 |\n",
       "| 29 | Female | 40 | 29 | 31 |\n",
       "| 30 | Female | 23 | 29 | 87 |\n",
       "| ... | ... | ... | ... | ... |\n",
       "| 171 | Male   | 40 |  87 | 13 |\n",
       "| 172 | Male   | 28 |  87 | 75 |\n",
       "| 173 | Male   | 36 |  87 | 10 |\n",
       "| 174 | Male   | 36 |  87 | 92 |\n",
       "| 175 | Female | 52 |  88 | 13 |\n",
       "| 176 | Female | 30 |  88 | 86 |\n",
       "| 177 | Male   | 58 |  88 | 15 |\n",
       "| 178 | Male   | 27 |  88 | 69 |\n",
       "| 179 | Male   | 59 |  93 | 14 |\n",
       "| 180 | Male   | 35 |  93 | 90 |\n",
       "| 181 | Female | 37 |  97 | 32 |\n",
       "| 182 | Female | 32 |  97 | 86 |\n",
       "| 183 | Male   | 46 |  98 | 15 |\n",
       "| 184 | Female | 29 |  98 | 88 |\n",
       "| 185 | Female | 41 |  99 | 39 |\n",
       "| 186 | Male   | 30 |  99 | 97 |\n",
       "| 187 | Female | 54 | 101 | 24 |\n",
       "| 188 | Male   | 28 | 101 | 68 |\n",
       "| 189 | Female | 41 | 103 | 17 |\n",
       "| 190 | Female | 36 | 103 | 85 |\n",
       "| 191 | Female | 34 | 103 | 23 |\n",
       "| 192 | Female | 32 | 103 | 69 |\n",
       "| 193 | Male   | 33 | 113 |  8 |\n",
       "| 194 | Female | 38 | 113 | 91 |\n",
       "| 195 | Female | 47 | 120 | 16 |\n",
       "| 196 | Female | 35 | 120 | 79 |\n",
       "| 197 | Female | 45 | 126 | 28 |\n",
       "| 198 | Male   | 32 | 126 | 74 |\n",
       "| 199 | Male   | 32 | 137 | 18 |\n",
       "| 200 | Male   | 30 | 137 | 83 |\n",
       "\n"
      ],
      "text/plain": [
       "    Genre  Age income spendingScore\n",
       "1   Male   19  15     39           \n",
       "2   Male   21  15     81           \n",
       "3   Female 20  16      6           \n",
       "4   Female 23  16     77           \n",
       "5   Female 31  17     40           \n",
       "6   Female 22  17     76           \n",
       "7   Female 35  18      6           \n",
       "8   Female 23  18     94           \n",
       "9   Male   64  19      3           \n",
       "10  Female 30  19     72           \n",
       "11  Male   67  19     14           \n",
       "12  Female 35  19     99           \n",
       "13  Female 58  20     15           \n",
       "14  Female 24  20     77           \n",
       "15  Male   37  20     13           \n",
       "16  Male   22  20     79           \n",
       "17  Female 35  21     35           \n",
       "18  Male   20  21     66           \n",
       "19  Male   52  23     29           \n",
       "20  Female 35  23     98           \n",
       "21  Male   35  24     35           \n",
       "22  Male   25  24     73           \n",
       "23  Female 46  25      5           \n",
       "24  Male   31  25     73           \n",
       "25  Female 54  28     14           \n",
       "26  Male   29  28     82           \n",
       "27  Female 45  28     32           \n",
       "28  Male   35  28     61           \n",
       "29  Female 40  29     31           \n",
       "30  Female 23  29     87           \n",
       "... ...    ... ...    ...          \n",
       "171 Male   40   87    13           \n",
       "172 Male   28   87    75           \n",
       "173 Male   36   87    10           \n",
       "174 Male   36   87    92           \n",
       "175 Female 52   88    13           \n",
       "176 Female 30   88    86           \n",
       "177 Male   58   88    15           \n",
       "178 Male   27   88    69           \n",
       "179 Male   59   93    14           \n",
       "180 Male   35   93    90           \n",
       "181 Female 37   97    32           \n",
       "182 Female 32   97    86           \n",
       "183 Male   46   98    15           \n",
       "184 Female 29   98    88           \n",
       "185 Female 41   99    39           \n",
       "186 Male   30   99    97           \n",
       "187 Female 54  101    24           \n",
       "188 Male   28  101    68           \n",
       "189 Female 41  103    17           \n",
       "190 Female 36  103    85           \n",
       "191 Female 34  103    23           \n",
       "192 Female 32  103    69           \n",
       "193 Male   33  113     8           \n",
       "194 Female 38  113    91           \n",
       "195 Female 47  120    16           \n",
       "196 Female 35  120    79           \n",
       "197 Female 45  126    28           \n",
       "198 Male   32  126    74           \n",
       "199 Male   32  137    18           \n",
       "200 Male   30  137    83           "
      ]
     },
     "metadata": {},
     "output_type": "display_data"
    }
   ],
   "source": []
  },
  {
   "cell_type": "code",
   "execution_count": null,
   "metadata": {},
   "outputs": [],
   "source": []
  }
 ],
 "metadata": {
  "kernelspec": {
   "display_name": "R",
   "language": "R",
   "name": "ir"
  },
  "language_info": {
   "codemirror_mode": "r",
   "file_extension": ".r",
   "mimetype": "text/x-r-source",
   "name": "R",
   "pygments_lexer": "r",
   "version": "4.0.3"
  }
 },
 "nbformat": 4,
 "nbformat_minor": 4
}
