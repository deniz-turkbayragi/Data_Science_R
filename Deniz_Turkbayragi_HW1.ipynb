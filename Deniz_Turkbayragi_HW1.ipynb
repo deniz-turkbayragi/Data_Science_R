{
 "cells": [
  {
   "cell_type": "code",
   "execution_count": null,
   "metadata": {},
   "outputs": [],
   "source": [
    "#Answer the question by adding new cells\n",
    "\n",
    "#Do not erase the question or commends\n",
    "\n",
    "#Codes and algorithms are like handwriting; share ideas, research online, check the lecture notes. \n",
    "\n",
    "#But at the end write your code."
   ]
  },
  {
   "cell_type": "markdown",
   "metadata": {},
   "source": [
    "\n",
    "Automatic, just run the code"
   ]
  },
  {
   "cell_type": "code",
   "execution_count": 13,
   "metadata": {},
   "outputs": [
    {
     "name": "stdout",
     "output_type": "stream",
     "text": [
      "enter your name as a string: deniz\n",
      "enter your group as a number: 10\n",
      "enter your birth month as a number (between 1-12): 5\n",
      "enter your day of birth as a number (between 1-31): 14\n"
     ]
    },
    {
     "data": {
      "text/html": [
       "<style>\n",
       ".list-inline {list-style: none; margin:0; padding: 0}\n",
       ".list-inline>li {display: inline-block}\n",
       ".list-inline>li:not(:last-child)::after {content: \"\\00b7\"; padding: 0 .5ex}\n",
       "</style>\n",
       "<ol class=list-inline><li>60</li><li>118</li><li>87</li><li>162</li><li>90</li><li>123</li><li>90</li><li>180</li><li>78</li></ol>\n"
      ],
      "text/latex": [
       "\\begin{enumerate*}\n",
       "\\item 60\n",
       "\\item 118\n",
       "\\item 87\n",
       "\\item 162\n",
       "\\item 90\n",
       "\\item 123\n",
       "\\item 90\n",
       "\\item 180\n",
       "\\item 78\n",
       "\\end{enumerate*}\n"
      ],
      "text/markdown": [
       "1. 60\n",
       "2. 118\n",
       "3. 87\n",
       "4. 162\n",
       "5. 90\n",
       "6. 123\n",
       "7. 90\n",
       "8. 180\n",
       "9. 78\n",
       "\n",
       "\n"
      ],
      "text/plain": [
       "[1]  60 118  87 162  90 123  90 180  78"
      ]
     },
     "metadata": {},
     "output_type": "display_data"
    },
    {
     "data": {
      "text/html": [
       "<style>\n",
       ".list-inline {list-style: none; margin:0; padding: 0}\n",
       ".list-inline>li {display: inline-block}\n",
       ".list-inline>li:not(:last-child)::after {content: \"\\00b7\"; padding: 0 .5ex}\n",
       "</style>\n",
       "<ol class=list-inline><li>156</li><li>119</li><li>117</li><li>176</li><li>139</li><li>161</li><li>101</li><li>79</li><li>174</li><li>161</li><li>137</li><li>140</li><li>135</li><li>93</li><li>164</li></ol>\n"
      ],
      "text/latex": [
       "\\begin{enumerate*}\n",
       "\\item 156\n",
       "\\item 119\n",
       "\\item 117\n",
       "\\item 176\n",
       "\\item 139\n",
       "\\item 161\n",
       "\\item 101\n",
       "\\item 79\n",
       "\\item 174\n",
       "\\item 161\n",
       "\\item 137\n",
       "\\item 140\n",
       "\\item 135\n",
       "\\item 93\n",
       "\\item 164\n",
       "\\end{enumerate*}\n"
      ],
      "text/markdown": [
       "1. 156\n",
       "2. 119\n",
       "3. 117\n",
       "4. 176\n",
       "5. 139\n",
       "6. 161\n",
       "7. 101\n",
       "8. 79\n",
       "9. 174\n",
       "10. 161\n",
       "11. 137\n",
       "12. 140\n",
       "13. 135\n",
       "14. 93\n",
       "15. 164\n",
       "\n",
       "\n"
      ],
      "text/plain": [
       " [1] 156 119 117 176 139 161 101  79 174 161 137 140 135  93 164"
      ]
     },
     "metadata": {},
     "output_type": "display_data"
    }
   ],
   "source": [
    "### Run the cell and fill the blanks, don't change it.\n",
    "\n",
    "name <- readline(prompt = \"enter your name as a string: \")\n",
    "group <- as.integer(readline(prompt = \"enter your group as a number: \"))\n",
    "month <- as.integer(readline(prompt = \"enter your birth month as a number (between 1-12): \"))\n",
    "day <- as.integer(readline(prompt = \"enter your day of birth as a number (between 1-31): \"))\n",
    "\n",
    "random <-round(runif((abs(month-day)), min = 60, max = 180)) \n",
    "random2 <- round(runif(abs(group+(nchar(name))), min =60, max= 180))\n",
    "\n",
    "random\n",
    "random2"
   ]
  },
  {
   "cell_type": "markdown",
   "metadata": {},
   "source": [
    "---------------------"
   ]
  },
  {
   "cell_type": "markdown",
   "metadata": {},
   "source": [
    "Exercises"
   ]
  },
  {
   "cell_type": "markdown",
   "metadata": {},
   "source": [
    "MERGE"
   ]
  },
  {
   "cell_type": "code",
   "execution_count": 14,
   "metadata": {},
   "outputs": [],
   "source": [
    "#Each class has 13 students, IQ's of these students are assignt in the class variables\n",
    "class_A <- c(102,128,131,98,140,93,110,115,109,89,106,119,97)\n",
    "class_B <- c(127,131,96,80,93,120,109,162,103,111,109,87,105)"
   ]
  },
  {
   "cell_type": "code",
   "execution_count": 15,
   "metadata": {},
   "outputs": [],
   "source": [
    "#Merge class_A and class_B under the variable: classIQ\n",
    "classIQ <- merge(class_A,class_B)\n",
    "\n",
    "#Merge random and random2 under the variable: classIQ_rnd\n",
    "classIQ_rnd <- merge(random,random2)"
   ]
  },
  {
   "cell_type": "markdown",
   "metadata": {},
   "source": [
    "MEAN"
   ]
  },
  {
   "cell_type": "code",
   "execution_count": 16,
   "metadata": {},
   "outputs": [
    {
     "name": "stdout",
     "output_type": "stream",
     "text": [
      "[1] 110.5385\n",
      "[1] 109.7778\n"
     ]
    },
    {
     "data": {
      "text/html": [
       "TRUE"
      ],
      "text/latex": [
       "TRUE"
      ],
      "text/markdown": [
       "TRUE"
      ],
      "text/plain": [
       "[1] TRUE"
      ]
     },
     "metadata": {},
     "output_type": "display_data"
    },
    {
     "data": {
      "text/html": [
       "TRUE"
      ],
      "text/latex": [
       "TRUE"
      ],
      "text/markdown": [
       "TRUE"
      ],
      "text/plain": [
       "[1] TRUE"
      ]
     },
     "metadata": {},
     "output_type": "display_data"
    }
   ],
   "source": [
    "#Calculate the mean of classIQ and classIQ_rnd without using the mean() function\n",
    "\n",
    "#Tip; length() function\n",
    "\n",
    "#Your code should work for every array just by changing the variable.\n",
    "\n",
    "#Compare your results with the mean() function by using  the == operator \n",
    "\n",
    "#First we need to define a func. which divides the sum of the values of the classIQ dataset in their length.\n",
    "mean_func<- function(x){\n",
    "    sum = sum(x) #Stored the sum of the values in the class IQ dataset in sum variable.\n",
    "    length = length(x) #Stored the length of the dataset in length variable \n",
    "    mean = sum/length #Calculation stored in mean variable.\n",
    "    print(mean) #Mean value of classIQ is displayed by print func.\n",
    "}\n",
    "mean_IQ<- mean_func(classIQ[,1]) #I stored the mean value of classIQ \n",
    "mean_IQ_rnd<- mean_func(classIQ_rnd[,1]) #I stored the mean value of classIQ_rnd\n",
    "\n",
    "#Comparing results by using == operator\n",
    "mean_IQ == mean(classIQ[,1])\n",
    "mean_IQ_rnd == mean(classIQ_rnd[,1])"
   ]
  },
  {
   "cell_type": "code",
   "execution_count": 17,
   "metadata": {},
   "outputs": [
    {
     "data": {
      "text/html": [
       "TRUE"
      ],
      "text/latex": [
       "TRUE"
      ],
      "text/markdown": [
       "TRUE"
      ],
      "text/plain": [
       "[1] TRUE"
      ]
     },
     "metadata": {},
     "output_type": "display_data"
    },
    {
     "data": {
      "text/html": [
       "FALSE"
      ],
      "text/latex": [
       "FALSE"
      ],
      "text/markdown": [
       "FALSE"
      ],
      "text/plain": [
       "[1] FALSE"
      ]
     },
     "metadata": {},
     "output_type": "display_data"
    }
   ],
   "source": [
    "#Comparing example;\n",
    "5 == 3+2\n",
    "5 == 4+4"
   ]
  },
  {
   "cell_type": "markdown",
   "metadata": {},
   "source": [
    "MEDIAN"
   ]
  },
  {
   "cell_type": "code",
   "execution_count": 18,
   "metadata": {},
   "outputs": [
    {
     "data": {
      "text/html": [
       "TRUE"
      ],
      "text/latex": [
       "TRUE"
      ],
      "text/markdown": [
       "TRUE"
      ],
      "text/plain": [
       "[1] TRUE"
      ]
     },
     "metadata": {},
     "output_type": "display_data"
    },
    {
     "data": {
      "text/html": [
       "TRUE"
      ],
      "text/latex": [
       "TRUE"
      ],
      "text/markdown": [
       "TRUE"
      ],
      "text/plain": [
       "[1] TRUE"
      ]
     },
     "metadata": {},
     "output_type": "display_data"
    }
   ],
   "source": [
    "#Try to create a function which calculates the median of a given array use it with classIQ and classIQ_rnd. \n",
    "\n",
    "#Name the function mymedian\n",
    "\n",
    "#Tips; length() and sort() functions, if, else, ifelse statments\n",
    "\n",
    "#Your code should work for every array just by changing the variable.\n",
    "\n",
    "#Compare your results with the median() function by using  the == operator \n",
    "\n",
    "#Firstly, I defined my function as mymedian\n",
    "mymedian <- function(x){\n",
    "  x <- sort(x)                                        #I ordered the dataset in an ascending order.\n",
    "  if((length(x) %% 2) == 0){                          #I added an ifelse statement to decide which computational operation will have run depended on wheter the lenght is even or odd.\n",
    "    return((x[length(x)/2] + x[length(x)/2 + 1]) / 2) #If the lenght is even find the average of the two middle values.\n",
    "  }else{                                              # If the lenght is odd find the number of the middle of the dataset.\n",
    "    return(x[(length(x)/2) + 0.5]) \n",
    "  }\n",
    "}\n",
    "#Then, I called my func. by specifying all columns [,1] of the dataset classIQ and stored this value into my_median varible.\n",
    "my_median<- mymedian(classIQ[,1])\n",
    "my_median2<- mymedian(classIQ_rnd[,1])\n",
    "#Lastly, I compared what I found by using the == operator\n",
    "median(classIQ[,1]) == my_median\n",
    "median(classIQ_rnd[,1]) == my_median2"
   ]
  },
  {
   "cell_type": "markdown",
   "metadata": {},
   "source": [
    "MOD"
   ]
  },
  {
   "cell_type": "code",
   "execution_count": 20,
   "metadata": {},
   "outputs": [
    {
     "data": {
      "text/html": [
       "109"
      ],
      "text/latex": [
       "109"
      ],
      "text/markdown": [
       "109"
      ],
      "text/plain": [
       "[1] 109"
      ]
     },
     "metadata": {},
     "output_type": "display_data"
    },
    {
     "data": {
      "text/html": [
       "90"
      ],
      "text/latex": [
       "90"
      ],
      "text/markdown": [
       "90"
      ],
      "text/plain": [
       "[1] 90"
      ]
     },
     "metadata": {},
     "output_type": "display_data"
    },
    {
     "data": {
      "text/html": [
       "161"
      ],
      "text/latex": [
       "161"
      ],
      "text/markdown": [
       "161"
      ],
      "text/plain": [
       "[1] 161"
      ]
     },
     "metadata": {},
     "output_type": "display_data"
    }
   ],
   "source": [
    "#Try to create a function which calculates the mod of a given array use it with classIQ and classIQ_rnd. \n",
    "\n",
    "#Name the function mymod\n",
    "\n",
    "#Tips; unique(), tabulate() functions\n",
    "\n",
    "#Your code should work for every array just by changing the variable.\n",
    "\n",
    "#The mod of classIQ = 109\n",
    "\n",
    "mymod <- function(x,na.rm=FALSE){       #I defined my function as mymod and add an extra argument which is na.rm to check the null values I set as FALSE.\n",
    "  ta <- table(x)                        \n",
    "  tam <- max(ta)\n",
    "  if(na.rm){                            #I neglected the NA values\n",
    "    x <- x[!is.na(x)]}\n",
    "  else\n",
    "    if(is.numeric(x)){     \n",
    "      ux <- unique(x)                   #I used the unique func. to remove the duplicate values in dataset.\n",
    "      mod <- ux[which.max(tabulate(match(x, ux)))]} #Then I used the match fun. to match only the unique values and then tabulate func. to take the values and count the number of times of each value occurs in it and stored as mod.\n",
    "  else{\n",
    "    mod <- names(ta)[ta == tam]}\n",
    "  return(mod)\n",
    "}\n",
    "mymod(classIQ[,2])        #The desired value of the mod which is 109 is located in the y-axis, that's why I used [,2]\n",
    "mymod(classIQ_rnd[,1])    #The value of the mod which is located in the x-axis, that's why I used [,1]\n",
    "mymod(classIQ_rnd[,2])    #The value of the mod which is located in the y-axis, that's why I used [,2]"
   ]
  },
  {
   "cell_type": "markdown",
   "metadata": {},
   "source": [
    "STANDARD DEVIATION"
   ]
  },
  {
   "cell_type": "code",
   "execution_count": 21,
   "metadata": {},
   "outputs": [
    {
     "data": {
      "text/html": [
       "TRUE"
      ],
      "text/latex": [
       "TRUE"
      ],
      "text/markdown": [
       "TRUE"
      ],
      "text/plain": [
       "[1] TRUE"
      ]
     },
     "metadata": {},
     "output_type": "display_data"
    },
    {
     "data": {
      "text/html": [
       "TRUE"
      ],
      "text/latex": [
       "TRUE"
      ],
      "text/markdown": [
       "TRUE"
      ],
      "text/plain": [
       "[1] TRUE"
      ]
     },
     "metadata": {},
     "output_type": "display_data"
    }
   ],
   "source": [
    "#Calculate the standard deviation of classIQ and classIQ_rnd without using the sd() function\n",
    "\n",
    "#Tip; sqrt() function\n",
    "\n",
    "#Your code should work for every array just by changing the variable.\n",
    "\n",
    "#Compare your results with the sd() function by using  the == operator \n",
    "\n",
    "#Firstly, I defined my_sd func.\n",
    "my_sd <- function(x) {\n",
    "  sqrt(sum((x-mean(x))^2/(length(x)-1)))\n",
    "}\n",
    "#Stored the values in variables\n",
    "classIQ_sd<- my_sd(classIQ[,1])\n",
    "classIQ_rnd_sd<- my_sd(classIQ_rnd[,1])\n",
    "\n",
    "#Checking\n",
    "classIQ_sd == sd(classIQ[,1])\n",
    "classIQ_rnd_sd == sd(classIQ_rnd[,1])\n"
   ]
  },
  {
   "cell_type": "markdown",
   "metadata": {},
   "source": [
    "PLOTS"
   ]
  },
  {
   "cell_type": "code",
   "execution_count": 22,
   "metadata": {},
   "outputs": [
    {
     "data": {
      "image/png": "[encoded data removed]",
      "text/plain": [
       "Plot with title \"Histogram of classIQ[, 1]\""
      ]
     },
     "metadata": {
      "image/png": {
       "height": 420,
       "width": 420
      }
     },
     "output_type": "display_data"
    }
   ],
   "source": [
    "#Create a histogram with classIQ\n",
    "hist(classIQ[,1])"
   ]
  },
  {
   "cell_type": "code",
   "execution_count": 25,
   "metadata": {},
   "outputs": [
    {
     "data": {
      "image/png": "[encoded data removed]",
      "text/plain": [
       "plot without title"
      ]
     },
     "metadata": {
      "image/png": {
       "height": 420,
       "width": 420
      }
     },
     "output_type": "display_data"
    }
   ],
   "source": [
    "#Create a barplot with classIQ_rnd\n",
    "barplot(classIQ_rnd[,1])"
   ]
  },
  {
   "cell_type": "code",
   "execution_count": 26,
   "metadata": {},
   "outputs": [
    {
     "data": {
      "image/png": "[encoded data removed]",
      "text/plain": [
       "plot without title"
      ]
     },
     "metadata": {
      "image/png": {
       "height": 420,
       "width": 420
      }
     },
     "output_type": "display_data"
    }
   ],
   "source": [
    "#Create a barplot with class_A and label the x axis with the names given below\n",
    "#Firstly I created a vector containing the names and stored them in a variable\n",
    "names(class_A)<- c('Luke', 'Raven', 'Callie', 'Murphy', 'Rocky', 'Sydney', 'Annie', 'Otis', 'Kona', 'Brandy', 'Teddy', 'Guinness', 'Zeus')\n",
    "#Then I added as a argument and added cex.names in order to size the font to make them fit in the x-axis.\n",
    "barplot(class_A, names.arg=names(class_A), cex.names=0.5)"
   ]
  },
  {
   "cell_type": "code",
   "execution_count": 27,
   "metadata": {},
   "outputs": [
    {
     "data": {
      "image/png": "[encoded data removed]",
      "text/plain": [
       "plot without title"
      ]
     },
     "metadata": {
      "image/png": {
       "height": 420,
       "width": 420
      }
     },
     "output_type": "display_data"
    }
   ],
   "source": [
    "boxplot(class_A)"
   ]
  },
  {
   "cell_type": "code",
   "execution_count": null,
   "metadata": {},
   "outputs": [],
   "source": [
    "# Knowing that outliers can be found by (min - (1.5*IQR)) or (max + (1.5*IQR)) \n",
    "# Now add two outlier values to your class_A and re-draw the boxplot"
   ]
  },
  {
   "cell_type": "code",
   "execution_count": 28,
   "metadata": {},
   "outputs": [
    {
     "data": {
      "text/html": [
       "89"
      ],
      "text/latex": [
       "89"
      ],
      "text/markdown": [
       "89"
      ],
      "text/plain": [
       "[1] 89"
      ]
     },
     "metadata": {},
     "output_type": "display_data"
    },
    {
     "data": {
      "text/html": [
       "140"
      ],
      "text/latex": [
       "140"
      ],
      "text/markdown": [
       "140"
      ],
      "text/plain": [
       "[1] 140"
      ]
     },
     "metadata": {},
     "output_type": "display_data"
    }
   ],
   "source": [
    "#Since we know that anything less than Q1−1.5IQR or greater than Q3+1.5IQR will be an outlier. Then if we find these values,\n",
    "#we will know which values are suitable to being outlier\n",
    "\n",
    "#To find the min value(Q1−1.5IQR) which is 89\n",
    "max(min(class_A), as.numeric(quantile(class_A, 0.25)) - (IQR(class_A)*1.5))\n",
    "#To find the max value(Q3+1.5IQR) which is 140\n",
    "min(max(class_A), as.numeric(quantile(class_A, 0.75)) + (IQR(class_A)*1.5))\n",
    "\n",
    "#After values are displayed, now we can assume that any value under 89 or above 140 can be outlier and add outlier values as 60 and 180.\n",
    "class_A<- append(class_A,c(60,180))"
   ]
  },
  {
   "cell_type": "code",
   "execution_count": 29,
   "metadata": {},
   "outputs": [
    {
     "data": {
      "image/png": "[encoded data removed]",
      "text/plain": [
       "plot without title"
      ]
     },
     "metadata": {
      "image/png": {
       "height": 420,
       "width": 420
      }
     },
     "output_type": "display_data"
    }
   ],
   "source": [
    "boxplot(class_A)"
   ]
  },
  {
   "cell_type": "code",
   "execution_count": null,
   "metadata": {},
   "outputs": [],
   "source": []
  }
 ],
 "metadata": {
  "kernelspec": {
   "display_name": "R",
   "language": "R",
   "name": "ir"
  },
  "language_info": {
   "codemirror_mode": "r",
   "file_extension": ".r",
   "mimetype": "text/x-r-source",
   "name": "R",
   "pygments_lexer": "r",
   "version": "4.0.3"
  }
 },
 "nbformat": 4,
 "nbformat_minor": 5
}
