{
 "cells": [
  {
   "cell_type": "markdown",
   "metadata": {},
   "source": [
    "# HW2 - RL Answers"
   ]
  },
  {
   "cell_type": "markdown",
   "metadata": {},
   "source": [
    "Q1.Examining Dataset"
   ]
  },
  {
   "cell_type": "code",
   "execution_count": null,
   "metadata": {},
   "outputs": [],
   "source": [
    "#library(tidyverse)"
   ]
  },
  {
   "cell_type": "code",
   "execution_count": null,
   "metadata": {},
   "outputs": [],
   "source": [
    "#I stored the data into a new variable 'df' for practical use.\n",
    "df <- USArrests"
   ]
  },
  {
   "cell_type": "code",
   "execution_count": null,
   "metadata": {},
   "outputs": [],
   "source": [
    "#As part of the data preparation, I’m going to create a new column ‘State’ from the row names.\n",
    "df = cbind(State = row.names(df) , df)\n",
    "\n",
    "#Make the state column a factor variable.\n",
    "df = transform(df, State=factor(State))\n",
    "\n",
    "#Examining the first 5 rows.\n",
    "head(df,5)"
   ]
  },
  {
   "cell_type": "code",
   "execution_count": null,
   "metadata": {},
   "outputs": [],
   "source": [
    "#Examining the last 5 rows.\n",
    "tail(df, 5)"
   ]
  },
  {
   "cell_type": "code",
   "execution_count": null,
   "metadata": {},
   "outputs": [],
   "source": [
    "# Number of rows (observations) \n",
    "nrow(df)"
   ]
  },
  {
   "cell_type": "code",
   "execution_count": null,
   "metadata": {},
   "outputs": [],
   "source": [
    "# Number of columns (variables)\n",
    "ncol(df)"
   ]
  },
  {
   "cell_type": "code",
   "execution_count": null,
   "metadata": {},
   "outputs": [],
   "source": [
    "#Data exploration\n",
    "summary(df)\n",
    "str(df)"
   ]
  },
  {
   "cell_type": "code",
   "execution_count": null,
   "metadata": {},
   "outputs": [],
   "source": [
    "#I stored my dependent and independent variables for practical use.\n",
    "Mur <- df$Murder\n",
    "Ass <- df$Assault"
   ]
  },
  {
   "cell_type": "markdown",
   "metadata": {},
   "source": [
    "Q2.Plot your variables from your dataset and show the mean point as red."
   ]
  },
  {
   "cell_type": "code",
   "execution_count": null,
   "metadata": {},
   "outputs": [],
   "source": [
    "#Plotted my independent and dependent variables and stored as 'plot_var'\n",
    "plot_var <- ggplot(df, aes(Assault, Murder)) + geom_point()\n",
    "#I calculated my mean values and stored them in their coordinates\n",
    "x <- mean(Mur)\n",
    "y <- mean(Ass)\n",
    "#Plotted my mean value and stored as 'plot_mean'\n",
    "plot_mean <- geom_point(aes(y,x), colour='red')\n",
    "#Combined them\n",
    "plot_var + plot_mean"
   ]
  },
  {
   "cell_type": "markdown",
   "metadata": {},
   "source": [
    "Q3.Calculate the c and m values"
   ]
  },
  {
   "cell_type": "code",
   "execution_count": null,
   "metadata": {},
   "outputs": [],
   "source": [
    "fit <- lm(Murder ~ Assault, data = df)\n",
    "#Finding coefficients\n",
    "as.formula(\n",
    "  paste0(\"y ~ \", round(coef(fit),3), \" + \", \n",
    "    paste(sprintf(\"%.2f * %s\", \n",
    "                  coef(fit)[-1],  \n",
    "                  names(coef(fit)[-1])), \n",
    "          collapse=\" + \")\n",
    "  )\n",
    ")\n",
    "#or examining the summary()\n",
    "summary(fit)"
   ]
  },
  {
   "cell_type": "markdown",
   "metadata": {},
   "source": [
    "Q4.In brief, find out the predicted values of Y for corresponding values of X using the linear equation"
   ]
  },
  {
   "cell_type": "code",
   "execution_count": null,
   "metadata": {
    "scrolled": true
   },
   "outputs": [],
   "source": [
    "#Write a function to use the Y=m*X*c\n",
    "lin_eq <- function(x){\n",
    "    y=(0.63)*x + 0.042\n",
    "}\n",
    "#Use apply to execute the function on your X values\n",
    "pred<-lapply(Ass,lin_eq)\n",
    "#Converting list to a numeric vector.\n",
    "a<-unlist(pred)\n",
    "class(a)"
   ]
  },
  {
   "cell_type": "markdown",
   "metadata": {},
   "source": [
    "Q5."
   ]
  },
  {
   "cell_type": "code",
   "execution_count": null,
   "metadata": {},
   "outputs": [],
   "source": [
    "#Firstly, I drew the regression line and previous values as geom_point(), \n",
    "#Then I added my mean value from previous exercise(plot_mean),\n",
    "#Then I added my predicted values using geom_point(aes(a)) and made them green \n",
    "p<-ggplot(df,aes(Assault, Murder)) + geom_smooth(method='lm',se=FALSE,formula=y~x) + geom_point() + plot_mean + geom_point(aes(a),colour='green') \n",
    "lm_eq <- function(df){\n",
    "    \n",
    "    m <- lm(Murder ~ Assault, df);\n",
    "\n",
    "    eq <- substitute((y) == a + b %.% (x), \n",
    "\n",
    "         list(a = format(unname(coef(m)[1]), digits = 2),\n",
    "\n",
    "              b = format(unname(coef(m)[2]), digits = 2)))\n",
    "\n",
    "\n",
    "    as.character(as.expression(eq));\n",
    "\n",
    "}\n",
    "p1 <- p + geom_text(x = 80, y = 17, label = lm_eq(df), parse = TRUE)\n",
    "\n",
    "p1\n"
   ]
  },
  {
   "cell_type": "markdown",
   "metadata": {},
   "source": [
    "Q6.Calculate the sum of squared errors "
   ]
  },
  {
   "cell_type": "code",
   "execution_count": null,
   "metadata": {},
   "outputs": [],
   "source": [
    "SSTotal <- var(Mur) * (nrow(df)-1)\n",
    "SSE <- sum(fit$resid^2 )\n",
    "SSreg <- SSTotal - SSE\n",
    "SSreg"
   ]
  },
  {
   "cell_type": "markdown",
   "metadata": {},
   "source": [
    "Outliers"
   ]
  },
  {
   "cell_type": "code",
   "execution_count": null,
   "metadata": {},
   "outputs": [],
   "source": [
    "#Q7.Create box plots of your variables.\n",
    "par(mfrow=c(1,2))\n",
    "boxplot(Mur, xlab = \"Murder\")\n",
    "boxplot(Ass, xlab = \"Assault\")"
   ]
  },
  {
   "cell_type": "code",
   "execution_count": null,
   "metadata": {},
   "outputs": [],
   "source": [
    "#Q8.Find the value and the index of this outlier.\n",
    "#I didn't have a column consists of an outlier value, but if it did I would do the following.\n",
    "#out_val <- boxplot.stats(df$outliercolunm)$out\n",
    "#print(paste(\"Outlier values:\",out_val))\n",
    "#out_ind <- which(df$outliercolumn %in% c(out_val))\n",
    "#print(paste(\"Outlier indices:\",out_ind))"
   ]
  },
  {
   "cell_type": "markdown",
   "metadata": {},
   "source": [
    "Model Building 1"
   ]
  },
  {
   "cell_type": "code",
   "execution_count": null,
   "metadata": {},
   "outputs": [],
   "source": [
    "#Q9.Build a model with your variables\n",
    "Model <-lm(Mur~Ass, data=df) \n",
    "#Give the summary of the model\n",
    "summary(Model)"
   ]
  },
  {
   "cell_type": "code",
   "execution_count": null,
   "metadata": {},
   "outputs": [],
   "source": [
    "#Q10.Write a function that does the beta coefficients calculation.\n",
    "lin_eq <- function(x){\n",
    "    y=(0.63)*x + 0.042\n",
    "}\n",
    "#Use apply to execute the function on your Y values\n",
    "pred_2<-lapply(Ass,lin_eq)\n",
    "head(pred_2)"
   ]
  },
  {
   "cell_type": "markdown",
   "metadata": {},
   "source": [
    "Train – Test"
   ]
  },
  {
   "cell_type": "code",
   "execution_count": null,
   "metadata": {},
   "outputs": [],
   "source": [
    "#Q11.Split your dataset as we did in the class\n",
    "\n",
    "#set starting point\n",
    "set.seed(10)\n",
    "\n",
    "#spliting the dataset\n",
    "trainingRowIndex <- sample(1:nrow(df),0.8*nrow(df))\n",
    "\n",
    "#model training data\n",
    "trainingData <- df[trainingRowIndex,] \n",
    "\n",
    "#model testing data\n",
    "testingData <- df[-trainingRowIndex,] "
   ]
  },
  {
   "cell_type": "markdown",
   "metadata": {},
   "source": [
    "Model Building-2"
   ]
  },
  {
   "cell_type": "code",
   "execution_count": null,
   "metadata": {},
   "outputs": [],
   "source": [
    "#Q13.Build a model with your training data and give the summary of your model.\n",
    "linModel <-summary(lm(Murder~Assault, data=trainingData))\n",
    "linModel"
   ]
  },
  {
   "cell_type": "code",
   "execution_count": null,
   "metadata": {},
   "outputs": [],
   "source": [
    "#Q14.What is the degree of freedom and how does it calculate?\n",
    "linModel$fstatistic[3] "
   ]
  },
  {
   "cell_type": "markdown",
   "metadata": {},
   "source": [
    "Model Fitting"
   ]
  },
  {
   "cell_type": "code",
   "execution_count": null,
   "metadata": {},
   "outputs": [],
   "source": [
    "#Q15.Fit your model and predict for your testing data\n",
    "#Recreating the model \n",
    "lin_Model <-lm(Murder~Assault, data=trainingData ) \n",
    "murPredict <- predict(lin_Model, testingData)\n",
    "actual_preds <- data.frame(cbind(actuals=testingData$Murder, predicted=murPredict))\n",
    "head(actual_preds)"
   ]
  },
  {
   "cell_type": "code",
   "execution_count": null,
   "metadata": {},
   "outputs": [],
   "source": [
    "#Q16.Find the correlation accuracy\n",
    "correlation_accuracy <- cor(actual_preds)\n",
    "correlation_accuracy"
   ]
  },
  {
   "cell_type": "code",
   "execution_count": null,
   "metadata": {},
   "outputs": [],
   "source": [
    "#Q17.Plot your data with your regression line (the model you build with your training data).\n",
    "plot(Murder~Assault, df)\n",
    "abline(lin_Model,col=3,lwd=2)"
   ]
  },
  {
   "cell_type": "code",
   "execution_count": null,
   "metadata": {},
   "outputs": [],
   "source": []
  }
 ],
 "metadata": {
  "kernelspec": {
   "display_name": "R",
   "language": "R",
   "name": "ir"
  },
  "language_info": {
   "codemirror_mode": "r",
   "file_extension": ".r",
   "mimetype": "text/x-r-source",
   "name": "R",
   "pygments_lexer": "r",
   "version": "4.0.3"
  }
 },
 "nbformat": 4,
 "nbformat_minor": 4
}
