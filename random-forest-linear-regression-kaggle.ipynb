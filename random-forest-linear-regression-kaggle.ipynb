{
 "cells": [
  {
   "cell_type": "code",
   "execution_count": 5,
   "metadata": {
    "_execution_state": "idle",
    "_kg_hide-output": true,
    "_uuid": "051d70d956493feee0c6d64651c6a088724dca2a",
    "execution": {
     "iopub.execute_input": "2021-03-20T17:48:20.496872Z",
     "iopub.status.busy": "2021-03-20T17:48:20.493741Z",
     "iopub.status.idle": "2021-03-20T17:48:24.089693Z",
     "shell.execute_reply": "2021-03-20T17:48:24.088063Z"
    },
    "papermill": {
     "duration": 3.611399,
     "end_time": "2021-03-20T17:48:24.090025",
     "exception": false,
     "start_time": "2021-03-20T17:48:20.478626",
     "status": "completed"
    },
    "tags": []
   },
   "outputs": [],
   "source": [
    "library(readr)\n",
    "library(readxl)\n",
    "library(tidyverse)\n",
    "library(caret)\n",
    "library(rpart)\n",
    "library(MLmetrics)\n"
   ]
  },
  {
   "cell_type": "code",
   "execution_count": 6,
   "metadata": {
    "execution": {
     "iopub.execute_input": "2021-03-20T17:48:24.150075Z",
     "iopub.status.busy": "2021-03-20T17:48:24.120118Z",
     "iopub.status.idle": "2021-03-20T17:48:24.452019Z",
     "shell.execute_reply": "2021-03-20T17:48:24.451100Z"
    },
    "papermill": {
     "duration": 0.348646,
     "end_time": "2021-03-20T17:48:24.452317",
     "exception": false,
     "start_time": "2021-03-20T17:48:24.103671",
     "status": "completed"
    },
    "tags": []
   },
   "outputs": [],
   "source": [
    "train_data <- read_excel(\"C:/proje/train.xlsx\")\n",
    "test_data <- read_excel(\"C:/proje/test.xlsx\")\n",
    "sample_submission<- read.csv(\"C:/proje/sample_submission.csv\")"
   ]
  },
  {
   "cell_type": "code",
   "execution_count": 7,
   "metadata": {
    "execution": {
     "iopub.execute_input": "2021-03-20T17:48:24.483514Z",
     "iopub.status.busy": "2021-03-20T17:48:24.482050Z",
     "iopub.status.idle": "2021-03-20T17:48:24.557945Z",
     "shell.execute_reply": "2021-03-20T17:48:24.557183Z"
    },
    "papermill": {
     "duration": 0.092734,
     "end_time": "2021-03-20T17:48:24.558085",
     "exception": false,
     "start_time": "2021-03-20T17:48:24.465351",
     "status": "completed"
    },
    "tags": []
   },
   "outputs": [],
   "source": [
    "train_data$date <- as.Date(paste(train_data$date,\"-01\",sep=\"\"))\n",
    "test_data$date <- as.Date(paste(test_data$date,\"-01\",sep=\"\"))\n"
   ]
  },
  {
   "cell_type": "code",
   "execution_count": 8,
   "metadata": {
    "execution": {
     "iopub.execute_input": "2021-03-20T17:48:24.589614Z",
     "iopub.status.busy": "2021-03-20T17:48:24.588257Z",
     "iopub.status.idle": "2021-03-20T17:48:24.635650Z",
     "shell.execute_reply": "2021-03-20T17:48:24.634347Z"
    },
    "papermill": {
     "duration": 0.064393,
     "end_time": "2021-03-20T17:48:24.635917",
     "exception": false,
     "start_time": "2021-03-20T17:48:24.571524",
     "status": "completed"
    },
    "tags": []
   },
   "outputs": [
    {
     "name": "stderr",
     "output_type": "stream",
     "text": [
      "`summarise()` has grouped output by 'customer', 'date'. You can override using the `.groups` argument.\n",
      "\n"
     ]
    }
   ],
   "source": [
    "train_data_sum <- train_data %>%\n",
    "  group_by(customer,date,item) %>%\n",
    "  summarize(sumorder = sum(order))"
   ]
  },
  {
   "cell_type": "code",
   "execution_count": 9,
   "metadata": {
    "execution": {
     "iopub.execute_input": "2021-03-20T17:48:24.668490Z",
     "iopub.status.busy": "2021-03-20T17:48:24.666561Z",
     "iopub.status.idle": "2021-03-20T17:48:24.776849Z",
     "shell.execute_reply": "2021-03-20T17:48:24.775249Z"
    },
    "papermill": {
     "duration": 0.127945,
     "end_time": "2021-03-20T17:48:24.777011",
     "exception": false,
     "start_time": "2021-03-20T17:48:24.649066",
     "status": "completed"
    },
    "tags": []
   },
   "outputs": [],
   "source": [
    "res <- merge(\n",
    "  expand.grid(customer=unique(train_data_sum$customer), date=unique(train_data_sum$date),item=unique(train_data_sum$item)),\n",
    "  train_data_sum, all=TRUE)\n",
    "res$sumorder[is.na(res$sumorder)] <- 0\n",
    "\n",
    "train_data_sum <- res\n",
    "a <- train_data_sum %>%\n",
    "  filter(item %in% as.numeric(levels(factor(train_data[train_data$customer==\"A\",]$item))) & customer == \"A\")\n",
    "b <- train_data_sum %>%\n",
    "  filter(item %in% as.numeric(levels(factor(train_data[train_data$customer==\"B\",]$item))) & customer == \"B\")\n",
    "c <- train_data_sum %>%\n",
    "  filter(item %in% as.numeric(levels(factor(train_data[train_data$customer==\"C\",]$item))) & customer == \"C\")\n",
    "\n",
    "train_data_sum <- rbind(a,b,c)"
   ]
  },
  {
   "cell_type": "code",
   "execution_count": 10,
   "metadata": {
    "execution": {
     "iopub.execute_input": "2021-03-20T17:48:24.810762Z",
     "iopub.status.busy": "2021-03-20T17:48:24.808857Z",
     "iopub.status.idle": "2021-03-20T17:48:24.854036Z",
     "shell.execute_reply": "2021-03-20T17:48:24.852380Z"
    },
    "papermill": {
     "duration": 0.063665,
     "end_time": "2021-03-20T17:48:24.854181",
     "exception": false,
     "start_time": "2021-03-20T17:48:24.790516",
     "status": "completed"
    },
    "tags": []
   },
   "outputs": [
    {
     "data": {
      "text/html": [
       "<table class=\"dataframe\">\n",
       "<caption>A data.frame: 6 × 4</caption>\n",
       "<thead>\n",
       "\t<tr><th></th><th scope=col>customer</th><th scope=col>date</th><th scope=col>item</th><th scope=col>sumorder</th></tr>\n",
       "\t<tr><th></th><th scope=col>&lt;fct&gt;</th><th scope=col>&lt;date&gt;</th><th scope=col>&lt;fct&gt;</th><th scope=col>&lt;dbl&gt;</th></tr>\n",
       "</thead>\n",
       "<tbody>\n",
       "\t<tr><th scope=row>1</th><td>A</td><td>2018-01-01</td><td>0</td><td> 216.0</td></tr>\n",
       "\t<tr><th scope=row>2</th><td>A</td><td>2018-01-01</td><td>1</td><td> 360.0</td></tr>\n",
       "\t<tr><th scope=row>3</th><td>A</td><td>2018-01-01</td><td>2</td><td>1312.0</td></tr>\n",
       "\t<tr><th scope=row>4</th><td>A</td><td>2018-01-01</td><td>3</td><td>3240.0</td></tr>\n",
       "\t<tr><th scope=row>5</th><td>A</td><td>2018-01-01</td><td>4</td><td> 734.4</td></tr>\n",
       "\t<tr><th scope=row>6</th><td>A</td><td>2018-01-01</td><td>5</td><td> 475.2</td></tr>\n",
       "</tbody>\n",
       "</table>\n"
      ],
      "text/latex": [
       "A data.frame: 6 × 4\n",
       "\\begin{tabular}{r|llll}\n",
       "  & customer & date & item & sumorder\\\\\n",
       "  & <fct> & <date> & <fct> & <dbl>\\\\\n",
       "\\hline\n",
       "\t1 & A & 2018-01-01 & 0 &  216.0\\\\\n",
       "\t2 & A & 2018-01-01 & 1 &  360.0\\\\\n",
       "\t3 & A & 2018-01-01 & 2 & 1312.0\\\\\n",
       "\t4 & A & 2018-01-01 & 3 & 3240.0\\\\\n",
       "\t5 & A & 2018-01-01 & 4 &  734.4\\\\\n",
       "\t6 & A & 2018-01-01 & 5 &  475.2\\\\\n",
       "\\end{tabular}\n"
      ],
      "text/markdown": [
       "\n",
       "A data.frame: 6 × 4\n",
       "\n",
       "| <!--/--> | customer &lt;fct&gt; | date &lt;date&gt; | item &lt;fct&gt; | sumorder &lt;dbl&gt; |\n",
       "|---|---|---|---|---|\n",
       "| 1 | A | 2018-01-01 | 0 |  216.0 |\n",
       "| 2 | A | 2018-01-01 | 1 |  360.0 |\n",
       "| 3 | A | 2018-01-01 | 2 | 1312.0 |\n",
       "| 4 | A | 2018-01-01 | 3 | 3240.0 |\n",
       "| 5 | A | 2018-01-01 | 4 |  734.4 |\n",
       "| 6 | A | 2018-01-01 | 5 |  475.2 |\n",
       "\n"
      ],
      "text/plain": [
       "  customer date       item sumorder\n",
       "1 A        2018-01-01 0     216.0  \n",
       "2 A        2018-01-01 1     360.0  \n",
       "3 A        2018-01-01 2    1312.0  \n",
       "4 A        2018-01-01 3    3240.0  \n",
       "5 A        2018-01-01 4     734.4  \n",
       "6 A        2018-01-01 5     475.2  "
      ]
     },
     "metadata": {},
     "output_type": "display_data"
    }
   ],
   "source": [
    "train_data_sum$id <- NULL\n",
    "train_data_sum$customer <- as.factor(train_data_sum$customer)\n",
    "train_data_sum$item <- as.factor(train_data_sum$item)\n",
    "\n",
    "test_data$id <- NULL\n",
    "test_data$customer <- as.factor(test_data$customer)\n",
    "test_data$item <- as.factor(test_data$item)\n",
    "\n",
    "head(train_data_sum)"
   ]
  },
  {
   "cell_type": "code",
   "execution_count": 11,
   "metadata": {
    "execution": {
     "iopub.execute_input": "2021-03-20T17:48:24.889026Z",
     "iopub.status.busy": "2021-03-20T17:48:24.886830Z",
     "iopub.status.idle": "2021-03-20T17:48:25.676990Z",
     "shell.execute_reply": "2021-03-20T17:48:25.677513Z"
    },
    "papermill": {
     "duration": 0.809182,
     "end_time": "2021-03-20T17:48:25.677680",
     "exception": false,
     "start_time": "2021-03-20T17:48:24.868498",
     "status": "completed"
    },
    "tags": []
   },
   "outputs": [
    {
     "name": "stderr",
     "output_type": "stream",
     "text": [
      "`summarise()` has grouped output by 'customer'. You can override using the `.groups` argument.\n",
      "\n"
     ]
    },
    {
     "data": {
      "image/png": "[encoded data removed]",
      "text/plain": [
       "plot without title"
      ]
     },
     "metadata": {
      "image/png": {
       "height": 420,
       "width": 420
      }
     },
     "output_type": "display_data"
    }
   ],
   "source": [
    "train_data %>%\n",
    "  group_by(customer,date) %>%\n",
    "  summarize(mean(order)) %>%\n",
    "  ggplot(aes(x=date , y=`mean(order)`,fill = customer)) +\n",
    "  geom_line(aes(color=customer)) +\n",
    "  xlab(\"\") +\n",
    "  ggtitle(\"12-2018|07-2020 Mean of Orders Monthly ~ Customer\") +\n",
    "  scale_x_date(date_breaks = \"1 month\", date_labels = \"%m\") +\n",
    "  theme_minimal()"
   ]
  },
  {
   "cell_type": "code",
   "execution_count": 12,
   "metadata": {
    "execution": {
     "iopub.execute_input": "2021-03-20T17:48:25.719508Z",
     "iopub.status.busy": "2021-03-20T17:48:25.717395Z",
     "iopub.status.idle": "2021-03-20T17:48:25.765602Z",
     "shell.execute_reply": "2021-03-20T17:48:25.764097Z"
    },
    "papermill": {
     "duration": 0.070438,
     "end_time": "2021-03-20T17:48:25.765764",
     "exception": false,
     "start_time": "2021-03-20T17:48:25.695326",
     "status": "completed"
    },
    "tags": []
   },
   "outputs": [],
   "source": [
    "set.seed(1234)\n",
    "\n",
    "indeks <- createDataPartition(train_data_sum$sumorder, p=0.90,list=FALSE)\n",
    "training <- train_data_sum[indeks,]\n",
    "test <- train_data_sum[-indeks,]\n",
    "\n",
    "train_x <- training %>% dplyr::select(-sumorder)\n",
    "train_y <- training$sumorder\n",
    "\n",
    "test_x <- test %>% dplyr::select(-sumorder)\n",
    "test_y <- test$sumorder\n"
   ]
  },
  {
   "cell_type": "code",
   "execution_count": 13,
   "metadata": {
    "execution": {
     "iopub.execute_input": "2021-03-20T17:48:25.807552Z",
     "iopub.status.busy": "2021-03-20T17:48:25.805705Z",
     "iopub.status.idle": "2021-03-20T17:48:25.856859Z",
     "shell.execute_reply": "2021-03-20T17:48:25.854614Z"
    },
    "papermill": {
     "duration": 0.073591,
     "end_time": "2021-03-20T17:48:25.857008",
     "exception": false,
     "start_time": "2021-03-20T17:48:25.783417",
     "status": "completed"
    },
    "tags": []
   },
   "outputs": [
    {
     "name": "stderr",
     "output_type": "stream",
     "text": [
      "Warning message in predict.lm(lin_model, test_x):\n",
      "\"prediction from a rank-deficient fit may be misleading\"\n"
     ]
    },
    {
     "data": {
      "text/html": [
       "1708.3146867097"
      ],
      "text/latex": [
       "1708.3146867097"
      ],
      "text/markdown": [
       "1708.3146867097"
      ],
      "text/plain": [
       "[1] 1708.315"
      ]
     },
     "metadata": {},
     "output_type": "display_data"
    }
   ],
   "source": [
    "# Linear Regression\n",
    "lin_model <- lm(sumorder~.,data=training)\n",
    "pred_lin_test <- predict(lin_model, test_x)\n",
    "RMSE(y_pred = pred_lin_test,y_true = test_y)"
   ]
  },
  {
   "cell_type": "code",
   "execution_count": 14,
   "metadata": {
    "execution": {
     "iopub.execute_input": "2021-03-20T17:48:25.934746Z",
     "iopub.status.busy": "2021-03-20T17:48:25.933680Z",
     "iopub.status.idle": "2021-03-20T17:48:25.989148Z",
     "shell.execute_reply": "2021-03-20T17:48:25.987475Z"
    },
    "papermill": {
     "duration": 0.100793,
     "end_time": "2021-03-20T17:48:25.989335",
     "exception": false,
     "start_time": "2021-03-20T17:48:25.888542",
     "status": "completed"
    },
    "tags": []
   },
   "outputs": [
    {
     "data": {
      "text/html": [
       "1782.13930060775"
      ],
      "text/latex": [
       "1782.13930060775"
      ],
      "text/markdown": [
       "1782.13930060775"
      ],
      "text/plain": [
       "[1] 1782.139"
      ]
     },
     "metadata": {},
     "output_type": "display_data"
    }
   ],
   "source": [
    "# Random Forest\n",
    "rp <- rpart(sumorder~.,data=training)\n",
    "pred_rp_test <- predict(rp, test_x)\n",
    "RMSE(y_pred = pred_rp_test,y_true = test_y)"
   ]
  },
  {
   "cell_type": "code",
   "execution_count": 15,
   "metadata": {
    "execution": {
     "iopub.execute_input": "2021-03-20T17:48:26.036940Z",
     "iopub.status.busy": "2021-03-20T17:48:26.034863Z",
     "iopub.status.idle": "2021-03-20T17:48:26.053008Z",
     "shell.execute_reply": "2021-03-20T17:48:26.051338Z"
    },
    "papermill": {
     "duration": 0.042202,
     "end_time": "2021-03-20T17:48:26.053153",
     "exception": false,
     "start_time": "2021-03-20T17:48:26.010951",
     "status": "completed"
    },
    "tags": []
   },
   "outputs": [
    {
     "data": {
      "text/html": [
       "1733.83304564163"
      ],
      "text/latex": [
       "1733.83304564163"
      ],
      "text/markdown": [
       "1733.83304564163"
      ],
      "text/plain": [
       "[1] 1733.833"
      ]
     },
     "metadata": {},
     "output_type": "display_data"
    }
   ],
   "source": [
    "RMSE(y_pred = (pred_rp_test+pred_lin_test)/2,y_true = test_y)"
   ]
  },
  {
   "cell_type": "code",
   "execution_count": 16,
   "metadata": {
    "execution": {
     "iopub.execute_input": "2021-03-20T17:48:26.101169Z",
     "iopub.status.busy": "2021-03-20T17:48:26.099381Z",
     "iopub.status.idle": "2021-03-20T17:48:26.125270Z",
     "shell.execute_reply": "2021-03-20T17:48:26.123198Z"
    },
    "papermill": {
     "duration": 0.050729,
     "end_time": "2021-03-20T17:48:26.125524",
     "exception": false,
     "start_time": "2021-03-20T17:48:26.074795",
     "status": "completed"
    },
    "tags": []
   },
   "outputs": [
    {
     "name": "stderr",
     "output_type": "stream",
     "text": [
      "Warning message in predict.lm(lin_model, test_data):\n",
      "\"prediction from a rank-deficient fit may be misleading\"\n"
     ]
    }
   ],
   "source": [
    "preds_lin <- predict(lin_model,test_data)\n",
    "preds_rp <- predict(rp,test_data)"
   ]
  },
  {
   "cell_type": "code",
   "execution_count": 17,
   "metadata": {
    "execution": {
     "iopub.execute_input": "2021-03-20T17:48:26.206335Z",
     "iopub.status.busy": "2021-03-20T17:48:26.203872Z",
     "iopub.status.idle": "2021-03-20T17:48:26.224719Z",
     "shell.execute_reply": "2021-03-20T17:48:26.222666Z"
    },
    "papermill": {
     "duration": 0.062833,
     "end_time": "2021-03-20T17:48:26.224872",
     "exception": false,
     "start_time": "2021-03-20T17:48:26.162039",
     "status": "completed"
    },
    "tags": []
   },
   "outputs": [],
   "source": [
    "sub <- 0.5*preds_lin + 0.5*preds_rp"
   ]
  },
  {
   "cell_type": "code",
   "execution_count": null,
   "metadata": {},
   "outputs": [],
   "source": []
  }
 ],
 "metadata": {
  "kernelspec": {
   "display_name": "R",
   "language": "R",
   "name": "ir"
  },
  "language_info": {
   "codemirror_mode": "r",
   "file_extension": ".r",
   "mimetype": "text/x-r-source",
   "name": "R",
   "pygments_lexer": "r",
   "version": "4.0.3"
  },
  "papermill": {
   "default_parameters": {},
   "duration": 9.950598,
   "end_time": "2021-03-20T17:48:27.257647",
   "environment_variables": {},
   "exception": null,
   "input_path": "__notebook__.ipynb",
   "output_path": "__notebook__.ipynb",
   "parameters": {},
   "start_time": "2021-03-20T17:48:17.307049",
   "version": "2.3.3"
  }
 },
 "nbformat": 4,
 "nbformat_minor": 5
}
